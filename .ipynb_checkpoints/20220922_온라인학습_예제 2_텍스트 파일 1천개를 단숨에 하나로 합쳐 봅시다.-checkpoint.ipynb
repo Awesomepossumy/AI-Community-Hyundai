{
 "cells": [
  {
   "cell_type": "markdown",
   "metadata": {},
   "source": [
    "# Ch 05. 텍스트 파일 1천 개를 단숨에 하나로 합쳐 봅시다.\n",
    "\n",
    "## 목표 정하기\n",
    "1. 결과물을 저장할 빈 파일을 생성한다.\n",
    "2. personal_info 폴더의 내용물을 하나씩 읽어온다.\n",
    "3. 결과물을 저장할 파일에 내용물을 옮겨 적는다.\n",
    "4. 내용물 작성이 완료되었다면 파일을 종료한다.\n",
    "\n",
    "## 목표를 달성하기 위해 필요한 작업들\n",
    "1. personal_info 폴더 안의 내용물을 목록으로 만들기 -> os 모듈 사용하기\n",
    "2. 목록 안의 내용물을 처음부터 끝까지 훑으며, 한 개씩 파일을 읽어오기 -> 반복문\n",
    "3. 읽어온 파일에서 내용물을 뽑아내기 -> readline()과 반복문 활용\n",
    "4. 파일에 내용을 기록하고 저장하기 -> write(), close() 사용"
   ]
  },
  {
   "cell_type": "code",
   "execution_count": 1,
   "metadata": {},
   "outputs": [],
   "source": [
    "#필요한 라이브러리 불러오기\n",
    "import time\n",
    "import os"
   ]
  },
  {
   "cell_type": "code",
   "execution_count": 2,
   "metadata": {},
   "outputs": [],
   "source": [
    "# 하나로 합칠 파일들이 저장된 폴더 이름을 적어주세요.\n",
    "directory = \"personal_info\"\n",
    "# 결과물 파일의 이름을 정의합니다. (파일 이름은 원하는대로 바꿀 수 있음)\n",
    "outfile_name = \"merged_ID.txt\" "
   ]
  },
  {
   "cell_type": "code",
   "execution_count": 3,
   "metadata": {},
   "outputs": [
    {
     "ename": "FileNotFoundError",
     "evalue": "[WinError 3] 지정된 경로를 찾을 수 없습니다: 'personal_info'",
     "output_type": "error",
     "traceback": [
      "\u001b[1;31m---------------------------------------------------------------------------\u001b[0m",
      "\u001b[1;31mFileNotFoundError\u001b[0m                         Traceback (most recent call last)",
      "\u001b[1;32m<ipython-input-3-ad6431c26035>\u001b[0m in \u001b[0;36m<module>\u001b[1;34m\u001b[0m\n\u001b[0;32m      2\u001b[0m \u001b[0mout_file\u001b[0m \u001b[1;33m=\u001b[0m \u001b[0mopen\u001b[0m\u001b[1;33m(\u001b[0m\u001b[0moutfile_name\u001b[0m\u001b[1;33m,\u001b[0m \u001b[1;34m'w'\u001b[0m\u001b[1;33m)\u001b[0m\u001b[1;33m\u001b[0m\u001b[1;33m\u001b[0m\u001b[0m\n\u001b[0;32m      3\u001b[0m \u001b[1;31m# 폴더의 내용물을 열람해 목록을 생성합니다.\u001b[0m\u001b[1;33m\u001b[0m\u001b[1;33m\u001b[0m\u001b[1;33m\u001b[0m\u001b[0m\n\u001b[1;32m----> 4\u001b[1;33m \u001b[0minput_files\u001b[0m \u001b[1;33m=\u001b[0m \u001b[0mos\u001b[0m\u001b[1;33m.\u001b[0m\u001b[0mlistdir\u001b[0m\u001b[1;33m(\u001b[0m\u001b[0mdirectory\u001b[0m\u001b[1;33m)\u001b[0m\u001b[1;33m\u001b[0m\u001b[1;33m\u001b[0m\u001b[0m\n\u001b[0m",
      "\u001b[1;31mFileNotFoundError\u001b[0m: [WinError 3] 지정된 경로를 찾을 수 없습니다: 'personal_info'"
     ]
    }
   ],
   "source": [
    "# 결과물 파일을 생성합니다. 'outfile_name' 변수에 담긴 이름을 가진 텅 빈 텍스트파일이 생성됩니다.\n",
    "out_file = open(outfile_name, 'w')\n",
    "# 폴더의 내용물을 열람해 목록을 생성합니다.\n",
    "input_files = os.listdir(directory)"
   ]
  },
  {
   "cell_type": "code",
   "execution_count": null,
   "metadata": {},
   "outputs": [],
   "source": []
  },
  {
   "cell_type": "code",
   "execution_count": null,
   "metadata": {},
   "outputs": [],
   "source": []
  },
  {
   "cell_type": "code",
   "execution_count": null,
   "metadata": {},
   "outputs": [],
   "source": []
  },
  {
   "cell_type": "code",
   "execution_count": null,
   "metadata": {},
   "outputs": [],
   "source": []
  },
  {
   "cell_type": "code",
   "execution_count": null,
   "metadata": {},
   "outputs": [],
   "source": []
  },
  {
   "cell_type": "code",
   "execution_count": null,
   "metadata": {},
   "outputs": [],
   "source": []
  },
  {
   "cell_type": "code",
   "execution_count": null,
   "metadata": {},
   "outputs": [],
   "source": []
  },
  {
   "cell_type": "code",
   "execution_count": null,
   "metadata": {},
   "outputs": [],
   "source": []
  }
 ],
 "metadata": {
  "kernelspec": {
   "display_name": "Python 3",
   "language": "python",
   "name": "python3"
  },
  "language_info": {
   "codemirror_mode": {
    "name": "ipython",
    "version": 3
   },
   "file_extension": ".py",
   "mimetype": "text/x-python",
   "name": "python",
   "nbconvert_exporter": "python",
   "pygments_lexer": "ipython3",
   "version": "3.7.4"
  },
  "toc": {
   "base_numbering": 1,
   "nav_menu": {},
   "number_sections": true,
   "sideBar": true,
   "skip_h1_title": false,
   "title_cell": "Table of Contents",
   "title_sidebar": "Contents",
   "toc_cell": false,
   "toc_position": {},
   "toc_section_display": true,
   "toc_window_display": false
  }
 },
 "nbformat": 4,
 "nbformat_minor": 2
}
