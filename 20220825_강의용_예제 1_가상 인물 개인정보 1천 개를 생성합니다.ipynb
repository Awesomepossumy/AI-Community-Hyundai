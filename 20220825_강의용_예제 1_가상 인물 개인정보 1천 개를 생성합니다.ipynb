{
 "cells": [
  {
   "cell_type": "markdown",
   "metadata": {},
   "source": [
    "# 목표 정하기\n",
    "1.  개인정보 파일 1천개를 만들자\n",
    "2.  그 안에는 위조된 이름, 나이, 이메일, 부서, 전화번호, 성별을 기재한다\n",
    "3.  이왕이면 예쁘게 양식을 맞춰서 기재하고 싶다.\n",
    "\n",
    "# 목표를 달성하기 위해 필요한 작업들\n",
    "1.  작업 한 번에 파일을 하나씩만 생성하자\n",
    "2.  개인정보를 위조하기 위한 방법이 필요하다\n",
    "3.  위조된 정보를 예쁘게 기재하자\n",
    "4. 위 작업을 1천번 반복하자 --> 반복문!\n"
   ]
  },
  {
   "cell_type": "markdown",
   "metadata": {},
   "source": [
    "# 작업 한 번에 파일을 하나씩만 생성하자"
   ]
  },
  {
   "cell_type": "markdown",
   "metadata": {},
   "source": [
    "- 이 Jupyter notebook 파일이 저장된 위치에 \"test.txt\" 라는 파일을 열어보자\n",
    "- \"test.txt\" 라는 파일이 존재하지 않으면 생성해서 열어보자\n",
    "- __< 5.4 파일 여러개 한번에 만들기 >로 이어집니다__"
   ]
  },
  {
   "cell_type": "code",
   "execution_count": null,
   "metadata": {},
   "outputs": [],
   "source": [
    "myFile = open(\"test.txt\", \"w\")"
   ]
  },
  {
   "cell_type": "code",
   "execution_count": null,
   "metadata": {},
   "outputs": [],
   "source": [
    "myFile.write(\"test123\")"
   ]
  },
  {
   "cell_type": "code",
   "execution_count": null,
   "metadata": {},
   "outputs": [],
   "source": [
    "myFile.write(\"test456\\n\")"
   ]
  },
  {
   "cell_type": "code",
   "execution_count": null,
   "metadata": {},
   "outputs": [],
   "source": [
    "myFile.write(\"test789\")"
   ]
  },
  {
   "cell_type": "code",
   "execution_count": null,
   "metadata": {},
   "outputs": [],
   "source": [
    "myFile.close()"
   ]
  },
  {
   "cell_type": "markdown",
   "metadata": {},
   "source": [
    "- close()로 저장까지 완료해야 \"test\"라는 글자가 저장된다."
   ]
  },
  {
   "cell_type": "markdown",
   "metadata": {},
   "source": [
    "# 개인정보를 위조하기 위한 방법이 필요하다\n",
    "## 이름 위조하기\n",
    "- 대한민국에서 인구가 가장 많은 성씨 10개\n",
    "- 그럴싸해 보이는 이름 중성과 종성 10개\n",
    "- 랜덤 샘플링 (random.choice() 사용)"
   ]
  },
  {
   "cell_type": "code",
   "execution_count": null,
   "metadata": {},
   "outputs": [],
   "source": [
    "# 이름 생성에 사용할 샘플 글자들을 정의합니다.\n",
    "first_name_samples = \"김이박최정강조윤장임\"\n",
    "middle_name_samples = \"민서예지도하주윤채현지\"\n",
    "last_name_samples = \"준윤우원호후서연아은진\""
   ]
  },
  {
   "cell_type": "code",
   "execution_count": null,
   "metadata": {},
   "outputs": [],
   "source": [
    "#랜덤 샘플링을 위해 random 함수를 불러와야 한다.\n",
    "import random"
   ]
  },
  {
   "cell_type": "code",
   "execution_count": null,
   "metadata": {},
   "outputs": [],
   "source": [
    "random.random() #이따가 나이를 생성할때 사용할 예정"
   ]
  },
  {
   "cell_type": "code",
   "execution_count": null,
   "metadata": {},
   "outputs": [],
   "source": [
    "str_sample='가나다라마바사'\n",
    "random.choice(str_sample)"
   ]
  },
  {
   "cell_type": "code",
   "execution_count": null,
   "metadata": {},
   "outputs": [],
   "source": [
    "first_name_samples = \"김이박최정강조윤장임\"\n",
    "middle_name_samples = \"민서예지도하주윤채현지\"\n",
    "last_name_samples = \"준윤우원호후서연아은진\""
   ]
  },
  {
   "cell_type": "code",
   "execution_count": null,
   "metadata": {},
   "outputs": [],
   "source": [
    "random.choice(first_name_samples)"
   ]
  },
  {
   "cell_type": "code",
   "execution_count": null,
   "metadata": {},
   "outputs": [],
   "source": [
    "random.choice(middle_name_samples)"
   ]
  },
  {
   "cell_type": "code",
   "execution_count": null,
   "metadata": {},
   "outputs": [],
   "source": [
    "random.choice(last_name_samples)"
   ]
  },
  {
   "cell_type": "code",
   "execution_count": null,
   "metadata": {},
   "outputs": [],
   "source": [
    "a=\"\" # 빈 string 만들기"
   ]
  },
  {
   "cell_type": "code",
   "execution_count": null,
   "metadata": {},
   "outputs": [],
   "source": [
    "a=a+random.choice(first_name_samples)+random.choice(middle_name_samples)+random.choice(last_name_samples)"
   ]
  },
  {
   "cell_type": "code",
   "execution_count": null,
   "metadata": {},
   "outputs": [],
   "source": [
    "a"
   ]
  },
  {
   "cell_type": "code",
   "execution_count": null,
   "metadata": {},
   "outputs": [],
   "source": [
    "sample_name = \"\"\n",
    "sample_name += random.choice(first_name_samples)\n",
    "sample_name += random.choice(middle_name_samples)\n",
    "sample_name += random.choice(last_name_samples)\n",
    "sample_name"
   ]
  },
  {
   "cell_type": "markdown",
   "metadata": {},
   "source": [
    "- 이름을 무작위로 만들어내는 코드를 함수로 정의한다면?\n",
    "- def 를 사용해보자"
   ]
  },
  {
   "cell_type": "code",
   "execution_count": null,
   "metadata": {},
   "outputs": [],
   "source": [
    "def random_name():\n",
    "    result = \"\"\n",
    "    result += random.choice(first_name_samples)\n",
    "    result += random.choice(middle_name_samples)\n",
    "    result += random.choice(last_name_samples)\n",
    "    return result"
   ]
  },
  {
   "cell_type": "code",
   "execution_count": null,
   "metadata": {},
   "outputs": [],
   "source": [
    "name = random_name()\n",
    "print(name)"
   ]
  },
  {
   "cell_type": "markdown",
   "metadata": {},
   "source": [
    "## 이메일 위조하기\n",
    "- 알파벳 소문자들과 숫자\n",
    "- 이중에서 랜덤으로 한 개를 뽑는다 -> 한글자 위조가능 (random.choice() 사용)\n",
    "- 위 과정을 8번 반복 -> 8글자 위조가능\n",
    "- 위조된 8글자 알파벳+숫자 조합을 이메일 아이디로 사용\n",
    "- 이메일 도메인은 고정으로 사용 샘플코드에서는 \"@bhban.com\" 를 사용"
   ]
  },
  {
   "cell_type": "code",
   "execution_count": null,
   "metadata": {},
   "outputs": [],
   "source": [
    "# 이메일 생성에 사용할 샘플 글자들을 정의합니다.\n",
    "alphabet_samples = \"abcdefghizklmnopqrstuvwxyz1234567890\""
   ]
  },
  {
   "cell_type": "code",
   "execution_count": null,
   "metadata": {},
   "outputs": [],
   "source": [
    "random.choice(alphabet_samples)"
   ]
  },
  {
   "cell_type": "code",
   "execution_count": null,
   "metadata": {},
   "outputs": [],
   "source": [
    "email=''\n",
    "email=email+random.choice(alphabet_samples)+random.choice(alphabet_samples)+random.choice(alphabet_samples)+random.choice(alphabet_samples)+random.choice(alphabet_samples)+random.choice(alphabet_samples)+random.choice(alphabet_samples)+random.choice(alphabet_samples)\n",
    "email"
   ]
  },
  {
   "cell_type": "code",
   "execution_count": null,
   "metadata": {},
   "outputs": [],
   "source": [
    "email=''\n",
    "email+=random.choice(alphabet_samples)\n",
    "email+=random.choice(alphabet_samples)\n",
    "email+=random.choice(alphabet_samples)\n",
    "email+=random.choice(alphabet_samples)\n",
    "email+=random.choice(alphabet_samples)\n",
    "email+=random.choice(alphabet_samples)\n",
    "email+=random.choice(alphabet_samples)\n",
    "email+=random.choice(alphabet_samples)\n",
    "email"
   ]
  },
  {
   "cell_type": "code",
   "execution_count": null,
   "metadata": {},
   "outputs": [],
   "source": [
    "email=''\n",
    "for i in range(8):\n",
    "    email+=random.choice(alphabet_samples)\n",
    "\n",
    "email"
   ]
  },
  {
   "cell_type": "code",
   "execution_count": null,
   "metadata": {},
   "outputs": [],
   "source": [
    "def random_string(length):\n",
    "    result = \"\"\n",
    "    for i in range(length):\n",
    "        result += random.choice(alphabet_samples)\n",
    "    return result"
   ]
  },
  {
   "cell_type": "code",
   "execution_count": null,
   "metadata": {},
   "outputs": [],
   "source": [
    "random_string(8)"
   ]
  },
  {
   "cell_type": "code",
   "execution_count": null,
   "metadata": {},
   "outputs": [],
   "source": [
    "random_string(8)+\"@hyundai-di.com\""
   ]
  },
  {
   "cell_type": "markdown",
   "metadata": {},
   "source": [
    "## 부서명 위조하기\n",
    "- 이메일 위조하는 것과 동일한 방식\n",
    "- 이메일 위조할 때 만들었던 random_string 을 그대로 사용한다.\n",
    "- length가 3"
   ]
  },
  {
   "cell_type": "code",
   "execution_count": null,
   "metadata": {},
   "outputs": [],
   "source": [
    "random_string(3)"
   ]
  },
  {
   "cell_type": "markdown",
   "metadata": {},
   "source": [
    "## 나이 위조하기\n",
    "- 현재 시각을 1백만분의 1초 단위로 불러옴\n",
    "- 불러온 숫자는 Float형\n",
    "- Float 자료형을 String으로 타입캐스팅 __< 5.5 Datatype과 Type Casting (형변환) > 내용 참조__\n",
    "- 문자열 슬라이싱으로 맨 뒤 숫자 2개를 뽑아내어 나이로 사용함\n"
   ]
  },
  {
   "cell_type": "code",
   "execution_count": null,
   "metadata": {},
   "outputs": [],
   "source": [
    "import time"
   ]
  },
  {
   "cell_type": "code",
   "execution_count": null,
   "metadata": {},
   "outputs": [],
   "source": [
    "time.time()"
   ]
  },
  {
   "cell_type": "code",
   "execution_count": null,
   "metadata": {},
   "outputs": [],
   "source": [
    "type(time.time())"
   ]
  },
  {
   "cell_type": "code",
   "execution_count": null,
   "metadata": {},
   "outputs": [],
   "source": [
    "str(time.time())"
   ]
  },
  {
   "cell_type": "code",
   "execution_count": null,
   "metadata": {},
   "outputs": [],
   "source": [
    "str_sample = '123'\n",
    "print(str_sample[-1])\n",
    "print(str_sample[-2])\n",
    "print(str_sample[-2:])"
   ]
  },
  {
   "cell_type": "code",
   "execution_count": null,
   "metadata": {},
   "outputs": [],
   "source": [
    "str(time.time())[-2:]"
   ]
  },
  {
   "cell_type": "markdown",
   "metadata": {},
   "source": [
    "## 핸드폰 번호 위조하기\n",
    "- 나이 위조하는 것과 동일한 방식\n",
    "- 이번엔 맨 뒤 숫자 4개를 뽑아내어 전화번호로 사용하기"
   ]
  },
  {
   "cell_type": "code",
   "execution_count": null,
   "metadata": {},
   "outputs": [],
   "source": [
    "str(time.time())[-4:]"
   ]
  },
  {
   "cell_type": "code",
   "execution_count": null,
   "metadata": {},
   "outputs": [],
   "source": [
    "\"010-\" + str(time.time())[-4:] + \"-\" + str(time.time())[-6:-2] "
   ]
  },
  {
   "cell_type": "markdown",
   "metadata": {},
   "source": [
    "## 성별 위조하기\n",
    "- 리스트에 성별을 2개 삽입함.\n",
    "- 이 중 하나를 랜덤으로 뽑아내어 성별로 사용"
   ]
  },
  {
   "cell_type": "code",
   "execution_count": null,
   "metadata": {},
   "outputs": [],
   "source": [
    "random.choice([\"male\", \"female\"])"
   ]
  },
  {
   "cell_type": "markdown",
   "metadata": {},
   "source": [
    "# 강의에서 배운 파이썬 기술\n",
    "## 파일 읽기"
   ]
  },
  {
   "cell_type": "code",
   "execution_count": null,
   "metadata": {},
   "outputs": [],
   "source": [
    "myFile = open(\"10_윤예윤.txt\")"
   ]
  },
  {
   "cell_type": "code",
   "execution_count": null,
   "metadata": {},
   "outputs": [],
   "source": [
    "myFile.readline()"
   ]
  },
  {
   "cell_type": "code",
   "execution_count": null,
   "metadata": {},
   "outputs": [],
   "source": [
    "myFile.readline()"
   ]
  },
  {
   "cell_type": "code",
   "execution_count": null,
   "metadata": {},
   "outputs": [],
   "source": [
    "myFile.readline()"
   ]
  },
  {
   "cell_type": "markdown",
   "metadata": {},
   "source": [
    "- readline을 반복문으로 호출해보자.\n",
    "- 다시 open하면 처음부터 다시 시작"
   ]
  },
  {
   "cell_type": "code",
   "execution_count": null,
   "metadata": {},
   "outputs": [],
   "source": [
    "myFile = open(\"10_윤예윤.txt\")"
   ]
  },
  {
   "cell_type": "code",
   "execution_count": null,
   "metadata": {},
   "outputs": [],
   "source": [
    "for i in range(6):\n",
    "    print(myFile.readline())"
   ]
  },
  {
   "cell_type": "markdown",
   "metadata": {},
   "source": [
    "- 만약 이 파일 내용물이 몇 줄인지 모를 때는?\n",
    "- 아래와 같이 코드를 입력하면 된다."
   ]
  },
  {
   "cell_type": "code",
   "execution_count": null,
   "metadata": {},
   "outputs": [],
   "source": [
    "myFile = open(\"10_윤예윤.txt\")"
   ]
  },
  {
   "cell_type": "code",
   "execution_count": null,
   "metadata": {},
   "outputs": [],
   "source": [
    "for line in myFile:\n",
    "    print(line)"
   ]
  },
  {
   "cell_type": "markdown",
   "metadata": {},
   "source": [
    "## 코드 동작에 걸리는 시간 측정하기"
   ]
  },
  {
   "cell_type": "code",
   "execution_count": null,
   "metadata": {},
   "outputs": [],
   "source": [
    "start_time = time.time()\n",
    "end_time = time.time()\n",
    "print(\"The Job Took \" + str(end_time - start_time) + \" seconds.\")"
   ]
  },
  {
   "cell_type": "code",
   "execution_count": null,
   "metadata": {},
   "outputs": [],
   "source": [
    "import math"
   ]
  },
  {
   "cell_type": "code",
   "execution_count": null,
   "metadata": {},
   "outputs": [],
   "source": [
    "start_time = time.time()\n",
    "\n",
    "math.factorial(100000)\n",
    "\n",
    "end_time = time.time()\n",
    "print(\"The Job Took \" + str(end_time - start_time) + \" seconds.\")"
   ]
  },
  {
   "cell_type": "markdown",
   "metadata": {},
   "source": [
    "## 폴더 만들기"
   ]
  },
  {
   "cell_type": "code",
   "execution_count": null,
   "metadata": {},
   "outputs": [],
   "source": [
    "import os"
   ]
  },
  {
   "cell_type": "code",
   "execution_count": null,
   "metadata": {},
   "outputs": [],
   "source": [
    "os.listdir()"
   ]
  },
  {
   "cell_type": "code",
   "execution_count": null,
   "metadata": {},
   "outputs": [],
   "source": [
    "os.mkdir(\"폴더만들기 테스트\")"
   ]
  },
  {
   "cell_type": "markdown",
   "metadata": {},
   "source": [
    "## 파일 여러개 한번에 만들기\n",
    "- 처음엔 1개부터 만들어보자"
   ]
  },
  {
   "cell_type": "code",
   "execution_count": null,
   "metadata": {},
   "outputs": [],
   "source": [
    "name = random_name()\n",
    "name"
   ]
  },
  {
   "cell_type": "code",
   "execution_count": null,
   "metadata": {},
   "outputs": [],
   "source": [
    "filename = \"폴더만들기 테스트/\" + '1' + \"_\" + name + \".txt\"\n",
    "filename"
   ]
  },
  {
   "cell_type": "code",
   "execution_count": null,
   "metadata": {},
   "outputs": [],
   "source": [
    "outfile = open(filename, 'w')"
   ]
  },
  {
   "cell_type": "code",
   "execution_count": null,
   "metadata": {},
   "outputs": [],
   "source": [
    "# 결과물 파일에 이름을 기재합니다.\n",
    "outfile.write(\"name : \" + name + \"\\n\")\n",
    "\n",
    "# 결과물 파일에 무작위로 생성된 나이를 기재합니다.\n",
    "outfile.write(\"age : \" + str(time.time())[-2:] + \"\\n\")\n",
    "\n",
    "# 결과물 파일에 무작위로 생성된 이메일을 기재합니다.\n",
    "outfile.write(\"e-mail : \" + random_string(8) + \"@bhban.com\\n\")\n",
    "\n",
    "# 결과물 파일에 무작위로 생성된 부서명을 기재합니다.\n",
    "outfile.write(\"division : \" + random_string(3) + \"\\n\")\n",
    "\n",
    "# 결과물 파일에 무작위로 생성된 핸드폰 번호를 기재합니다.\n",
    "outfile.write(\"telephone : 010-\" + str(time.time())[-4:] + \"-\" + str(time.time())[-6:-2] + '\\n')\n",
    "\n",
    "# 결과물 파일에 무작위로 선정된 성별을 기재합니다.\n",
    "outfile.write(\"sex : \" + random.choice([\"male\", \"female\"]))"
   ]
  },
  {
   "cell_type": "code",
   "execution_count": null,
   "metadata": {},
   "outputs": [],
   "source": [
    "outfile.close()"
   ]
  },
  {
   "cell_type": "markdown",
   "metadata": {},
   "source": [
    "- 이젠 위 코드 전체를 반복문 안에 넣어보자!"
   ]
  },
  {
   "cell_type": "code",
   "execution_count": null,
   "metadata": {},
   "outputs": [],
   "source": [
    "NUM_SAMPLES = 1000\n",
    "\n",
    "for i in range(NUM_SAMPLES):\n",
    "    # 무작위로 사람 이름을 생성합니다.\n",
    "    name = random_name()\n",
    "\n",
    "    # 결과물 파일의 이름을 정의합니다.\n",
    "    filename = \"폴더만들기 테스트/\" + str(i) + \"_\" + name + \".txt\"\n",
    "\n",
    "    # 결과물 파일을 생성합니다. 텅 빈 파일이 생성됩니다.\n",
    "    outfile = open(filename, 'w')\n",
    "\n",
    "    # 결과물 파일에 이름을 기재합니다.\n",
    "    outfile.write(\"name : \" + name + \"\\n\")\n",
    "\n",
    "    # 결과물 파일에 무작위로 생성된 나이를 기재합니다.\n",
    "    outfile.write(\"age : \" + str(time.time())[-2:] + \"\\n\")\n",
    "\n",
    "    # 결과물 파일에 무작위로 생성된 이메일을 기재합니다.\n",
    "    outfile.write(\"e-mail : \" + random_string(8) + \"@bhban.com\\n\")\n",
    "\n",
    "    # 결과물 파일에 무작위로 생성된 부서명을 기재합니다.\n",
    "    outfile.write(\"division : \" + random_string(3) + \"\\n\")\n",
    "\n",
    "    # 결과물 파일에 무작위로 생성된 핸드폰 번호를 기재합니다.\n",
    "    outfile.write(\"telephone : 010-\" + str(time.time())[-4:] + \"-\" + str(time.time())[-6:-2] + '\\n')\n",
    "\n",
    "    # 결과물 파일에 무작위로 선정된 성별을 기재합니다.\n",
    "    outfile.write(\"sex : \" + random.choice([\"male\", \"female\"]))\n",
    "\n",
    "    # 결과물 파일 수정을 마무리합니다.\n",
    "    outfile.close()\n"
   ]
  },
  {
   "cell_type": "markdown",
   "metadata": {},
   "source": [
    "## Datatype 과 Type Casting (형변환)"
   ]
  },
  {
   "cell_type": "code",
   "execution_count": null,
   "metadata": {},
   "outputs": [],
   "source": [
    "type(\"string\")"
   ]
  },
  {
   "cell_type": "code",
   "execution_count": null,
   "metadata": {},
   "outputs": [],
   "source": [
    "type(234)"
   ]
  },
  {
   "cell_type": "code",
   "execution_count": null,
   "metadata": {},
   "outputs": [],
   "source": [
    "type(2.4)"
   ]
  },
  {
   "cell_type": "code",
   "execution_count": null,
   "metadata": {},
   "outputs": [],
   "source": [
    "type([1,2,3])"
   ]
  },
  {
   "cell_type": "code",
   "execution_count": null,
   "metadata": {},
   "outputs": [],
   "source": [
    "type(\"234\")"
   ]
  },
  {
   "cell_type": "code",
   "execution_count": null,
   "metadata": {},
   "outputs": [],
   "source": [
    "str(1234)"
   ]
  },
  {
   "cell_type": "code",
   "execution_count": null,
   "metadata": {},
   "outputs": [],
   "source": [
    "type(str(1234))"
   ]
  },
  {
   "cell_type": "code",
   "execution_count": null,
   "metadata": {},
   "outputs": [],
   "source": [
    "int(\"1234\")"
   ]
  },
  {
   "cell_type": "code",
   "execution_count": null,
   "metadata": {},
   "outputs": [],
   "source": [
    "float(\"1234\")"
   ]
  },
  {
   "cell_type": "code",
   "execution_count": null,
   "metadata": {},
   "outputs": [],
   "source": [
    "int(0.234)"
   ]
  },
  {
   "cell_type": "code",
   "execution_count": null,
   "metadata": {},
   "outputs": [],
   "source": [
    "int(3.5)"
   ]
  },
  {
   "cell_type": "code",
   "execution_count": null,
   "metadata": {},
   "outputs": [],
   "source": [
    "str(1.5)"
   ]
  },
  {
   "cell_type": "code",
   "execution_count": null,
   "metadata": {},
   "outputs": [],
   "source": [
    "int(\"string\") #invalid한 형변환"
   ]
  },
  {
   "cell_type": "code",
   "execution_count": null,
   "metadata": {},
   "outputs": [],
   "source": [
    "a=[1,2,3,4,5]"
   ]
  },
  {
   "cell_type": "code",
   "execution_count": null,
   "metadata": {},
   "outputs": [],
   "source": [
    "str(a) #대괄호까지 전체가 다 문자열로 형변환됨"
   ]
  },
  {
   "cell_type": "markdown",
   "metadata": {},
   "source": [
    "## Sample Code"
   ]
  },
  {
   "cell_type": "code",
   "execution_count": null,
   "metadata": {},
   "outputs": [],
   "source": [
    "#-*-coding:euc-kr\n",
    "\"\"\"\n",
    "Author : Byunghyun Ban\n",
    "GitHub : https://github.com/needleworm\n",
    "Last Modification : 2020.02.12.\n",
    "\"\"\"\n",
    "import time\n",
    "import random\n",
    "import os\n",
    "\n",
    "\n",
    "# 작업 시작 메시지를 출력합니다.\n",
    "print(\"Process Start.\")\n",
    "\n",
    "# 시작 시점의 시간을 기록합니다.\n",
    "start_time = time.time()\n",
    "\n",
    "# 생성할 개인정보 파일 개수를 정의합니다.\n",
    "NUM_SAMPLES = 1000\n",
    "\n",
    "# 이메일 생성에 사용할 샘플 글자들을 정의합니다.\n",
    "alphabet_samples = \"abcdefghizklmnopqrstuvwxyz1234567890\"\n",
    "\n",
    "\n",
    "# 무작위로 선택된 영어 글자를 생성하는 함수입니다.\n",
    "def random_string(length):\n",
    "    result = \"\"\n",
    "    for i in range(length):\n",
    "        result += random.choice(alphabet_samples)\n",
    "    return result\n",
    "\n",
    "\n",
    "# 이름 생성에 사용할 샘플 글자들을 정의합니다.\n",
    "first_name_samples = \"김이박최정강조윤장임\"\n",
    "middle_name_samples = \"민서예지도하주윤채현지\"\n",
    "last_name_samples = \"준윤우원호후서연아은진\"\n",
    "\n",
    "\n",
    "# 무작위로 사람 이름을 생성하는 함수입니다.\n",
    "def random_name():\n",
    "    result = \"\"\n",
    "    result += random.choice(first_name_samples)\n",
    "    result += random.choice(middle_name_samples)\n",
    "    result += random.choice(last_name_samples)\n",
    "    return result\n",
    "\n",
    "\n",
    "# 결과물을 저장할 폴더를 생성합니다.\n",
    "os.mkdir(\"personal_info\")\n",
    "\n",
    "# 개인정보 파일을 자동으로 생성하는 부분입니다.\n",
    "# NUM_SAMPLES 회수만큼 반복합니다.\n",
    "# 이를테면, NUM_SAMPLES가 100이면 무작위 개인정보 생성을 100회 반복합니다.\n",
    "for i in range(NUM_SAMPLES):\n",
    "    # 무작위로 사람 이름을 생성합니다.\n",
    "    name = random_name()\n",
    "\n",
    "    # 결과물 파일의 이름을 정의합니다.\n",
    "    filename = \"personal_info/\" + str(i) + \"_\" + name + \".txt\"\n",
    "\n",
    "    # 결과물 파일을 생성합니다. 텅 빈 파일이 생성됩니다.\n",
    "    outfile = open(filename, 'w')\n",
    "\n",
    "    # 결과물 파일에 이름을 기재합니다.\n",
    "    outfile.write(\"name : \" + name + \"\\n\")\n",
    "\n",
    "    # 결과물 파일에 무작위로 생성된 나이를 기재합니다.\n",
    "    outfile.write(\"age : \" + str(time.time())[-2:] + \"\\n\")\n",
    "\n",
    "    # 결과물 파일에 무작위로 생성된 이메일을 기재합니다.\n",
    "    outfile.write(\"e-mail : \" + random_string(8) + \"@bhban.com\\n\")\n",
    "\n",
    "    # 결과물 파일에 무작위로 생성된 부서명을 기재합니다.\n",
    "    outfile.write(\"division : \" + random_string(3) + \"\\n\")\n",
    "\n",
    "    # 결과물 파일에 무작위로 생성된 핸드폰 번호를 기재합니다.\n",
    "    outfile.write(\"telephone : 010-\" + str(time.time())[-4:] + \"-\" + str(time.time())[-6:-2] + '\\n')\n",
    "\n",
    "    # 결과물 파일에 무작위로 선정된 성별을 기재합니다.\n",
    "    outfile.write(\"sex : \" + random.choice([\"male\", \"female\"]))\n",
    "\n",
    "    # 결과물 파일 수정을 마무리합니다.\n",
    "    outfile.close()\n",
    "\n",
    "\n",
    "# 작업 종료 메세지를 출력합니다.\n",
    "print(\"Process Done.\")\n",
    "\n",
    "# 작업에 총 몇 초가 걸렸는지 출력합니다.\n",
    "end_time = time.time()\n",
    "print(\"The Job Took \" + str(end_time - start_time) + \" seconds.\")\n"
   ]
  },
  {
   "cell_type": "markdown",
   "metadata": {},
   "source": [
    "# Quiz\n",
    "- '핸드폰 번호 위조하기'에서, 이런 번호가 출력되기도 합니다."
   ]
  },
  {
   "cell_type": "code",
   "execution_count": null,
   "metadata": {},
   "outputs": [],
   "source": [
    "for i in range (100):\n",
    "    \n",
    "    time_str= str(time.time())\n",
    "    tele_1=time_str[-4:]\n",
    "    tele_2=time_str[-6:-2] \n",
    "\n",
    "    if (\".\" in tele_1):\n",
    "        print(time_str)\n",
    "        print (\"010-\"+tele_1+\"-\"+tele_2)\n",
    "    elif (\".\" in tele_2):\n",
    "        print(time_str)\n",
    "        print (\"010-\"+tele_1+\"-\"+tele_2)\n",
    "\n",
    "    time.sleep(random.random())"
   ]
  },
  {
   "attachments": {},
   "cell_type": "markdown",
   "metadata": {},
   "source": [
    "- time 함수를 사용해서 랜덤값을 뽑아내기 때문에 발생할 수 있는 일!\n",
    "- 아래 조건을 만족하는 핸드폰 번호 위조 코드를 만들어보세요.\n",
    "\n",
    "  - 첫번째 자리는 010\n",
    "  - 두번째 자리는 0이나 1이 올 수 없다.\n",
    "  - 두번째, 세번째 자리는 모두 무작위로 선정 \n",
    "\n",
    "- e.g. (010-abcd-efgh 라고 했을 때,) ab!=gh 를 만족하도록\n",
    "- 제출하는 곳 : https://forms.office.com/r/V0Tn6EpyVq"
   ]
  },
  {
   "cell_type": "code",
   "execution_count": null,
   "metadata": {},
   "outputs": [],
   "source": []
  }
 ],
 "metadata": {
  "kernelspec": {
   "display_name": "Python 3",
   "language": "python",
   "name": "python3"
  },
  "language_info": {
   "codemirror_mode": {
    "name": "ipython",
    "version": 3
   },
   "file_extension": ".py",
   "mimetype": "text/x-python",
   "name": "python",
   "nbconvert_exporter": "python",
   "pygments_lexer": "ipython3",
   "version": "3.7.4"
  },
  "toc": {
   "base_numbering": 1,
   "nav_menu": {},
   "number_sections": true,
   "sideBar": true,
   "skip_h1_title": false,
   "title_cell": "Table of Contents",
   "title_sidebar": "Contents",
   "toc_cell": false,
   "toc_position": {
    "height": "calc(100% - 180px)",
    "left": "10px",
    "top": "150px",
    "width": "384px"
   },
   "toc_section_display": true,
   "toc_window_display": true
  }
 },
 "nbformat": 4,
 "nbformat_minor": 2
}
