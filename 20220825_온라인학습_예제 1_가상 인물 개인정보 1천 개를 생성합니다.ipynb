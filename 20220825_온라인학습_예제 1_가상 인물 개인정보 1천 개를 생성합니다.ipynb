{
 "cells": [
  {
   "cell_type": "markdown",
   "metadata": {},
   "source": [
    "# Ch 04. 가상 인물 개인정보 1천 개를 생성합니다.\n",
    "## 08. 코드 실행하기, 결과 살펴보기, 설계 과정\n",
    "\n",
    "### 목표 정하기\n",
    "1.  개인정보 파일 1천개를 만들자\n",
    "2.  그 안에는 위조된 이름, 나이, 이메일, 부서, 전화번호, 성별을 기재한다\n",
    "3.  이왕이면 예쁘게 양식을 맞춰서 기재하고 싶다.\n",
    "\n",
    "### 목표를 달성하기 위해 필요한 작업들\n",
    "1.  작업 한 번에 파일을 하나씩만 생성하자\n",
    "2.  개인정보를 위조하기 위한 방법이 필요하다\n",
    "3.  위조된 정보를 예쁘게 기재하자\n",
    "4. 위 작업을 1천번 반복하자 --> 반복문!\n"
   ]
  },
  {
   "cell_type": "markdown",
   "metadata": {},
   "source": [
    "### 작업 한 번에 파일을 하나씩만 생성하자"
   ]
  },
  {
   "cell_type": "markdown",
   "metadata": {},
   "source": [
    "- 이 Jupyter notebook 파일이 저장된 위치에 \"test.txt\" 라는 파일을 열어보자\n",
    "- \"test.txt\" 라는 파일이 존재하지 않으면 생성해서 열어보자"
   ]
  },
  {
   "cell_type": "code",
   "execution_count": null,
   "metadata": {},
   "outputs": [],
   "source": [
    "myFile = open(\"test.txt\", \"w\")"
   ]
  },
  {
   "cell_type": "code",
   "execution_count": null,
   "metadata": {},
   "outputs": [],
   "source": [
    "myFile.write(\"test\")"
   ]
  },
  {
   "cell_type": "code",
   "execution_count": null,
   "metadata": {},
   "outputs": [],
   "source": [
    "myFile.close()"
   ]
  },
  {
   "cell_type": "markdown",
   "metadata": {},
   "source": [
    "- close()로 저장까지 완료해야 \"test\"라는 글자가 저장된다."
   ]
  },
  {
   "cell_type": "markdown",
   "metadata": {},
   "source": [
    "### 개인정보를 위조하기 위한 방법이 필요하다\n",
    "#### 이름 위조하기\n",
    "- 대한민국에서 인구가 가장 많은 성씨 10개\n",
    "- 그럴싸해 보이는 이름 중성과 종성 10개\n",
    "- 랜덤 샘플링"
   ]
  },
  {
   "cell_type": "code",
   "execution_count": null,
   "metadata": {},
   "outputs": [],
   "source": [
    "# 이름 생성에 사용할 샘플 글자들을 정의합니다.\n",
    "first_name_samples = \"김이박최정강조윤장임\"\n",
    "middle_name_samples = \"민서예지도하주윤채현지\"\n",
    "last_name_samples = \"준윤우원호후서연아은진\""
   ]
  },
  {
   "cell_type": "markdown",
   "metadata": {},
   "source": [
    "#### 이메일 위조하기\n",
    "- 알파벳 소문자들과 숫자\n",
    "- 이중에서 랜덤으로 한 개를 뽑는다 -> 한글자 위조가능\n",
    "- 위 과정을 8번 반복 -> 8글자 위조가능\n",
    "- 위조된 8글자 알파벳+숫자 조합을 이메일 아이디로 사용"
   ]
  },
  {
   "cell_type": "code",
   "execution_count": null,
   "metadata": {},
   "outputs": [],
   "source": [
    "# 이메일 생성에 사용할 샘플 글자들을 정의합니다.\n",
    "alphabet_samples = \"abcdefghizklmnopqrstuvwxyz1234567890\""
   ]
  },
  {
   "cell_type": "markdown",
   "metadata": {},
   "source": [
    "#### 나이 위조하기\n",
    "- 현재 시각을 1백만분의 1초 단위로 불러옴\n",
    "- 맨 뒤 숫자 2개를 뽑아내어 나이로 사용함\n"
   ]
  },
  {
   "cell_type": "code",
   "execution_count": null,
   "metadata": {},
   "outputs": [],
   "source": [
    "import time"
   ]
  },
  {
   "cell_type": "code",
   "execution_count": null,
   "metadata": {},
   "outputs": [],
   "source": [
    "time.time()"
   ]
  },
  {
   "cell_type": "code",
   "execution_count": null,
   "metadata": {},
   "outputs": [],
   "source": [
    "time.time()"
   ]
  },
  {
   "cell_type": "markdown",
   "metadata": {},
   "source": [
    "#### 성별 위조하기\n",
    "- 리스트에 성별을 2개 삽입함.\n",
    "- 이 중 하나를 랜덤으로 뽑아내어 성별로 사용"
   ]
  },
  {
   "cell_type": "code",
   "execution_count": null,
   "metadata": {},
   "outputs": [],
   "source": [
    "list_sex = [\"male\", \"female\"]"
   ]
  },
  {
   "cell_type": "code",
   "execution_count": null,
   "metadata": {},
   "outputs": [],
   "source": [
    "list_sex"
   ]
  },
  {
   "cell_type": "markdown",
   "metadata": {},
   "source": [
    "## 09. 파이썬 기술 살펴보기 (파일 입출력, 랜덤, 라이브러리), 알고리즘 순서도\n",
    "- 이 Jupyter notebook이 저장되는 위치에 라는 샘플 파일을 복사해주세요.\n",
    "- 파일명은 다를 수 있습니다. 각자 생성된 파일명에 맞게 코드를 수정하세요."
   ]
  },
  {
   "cell_type": "code",
   "execution_count": null,
   "metadata": {},
   "outputs": [],
   "source": [
    "myFile = open(\"10_윤예윤.txt\")"
   ]
  },
  {
   "cell_type": "code",
   "execution_count": null,
   "metadata": {},
   "outputs": [],
   "source": [
    "myFile.readline()"
   ]
  },
  {
   "cell_type": "code",
   "execution_count": null,
   "metadata": {},
   "outputs": [],
   "source": [
    "myFile.readline()"
   ]
  },
  {
   "cell_type": "code",
   "execution_count": null,
   "metadata": {},
   "outputs": [],
   "source": [
    "myFile.readline()"
   ]
  },
  {
   "cell_type": "markdown",
   "metadata": {},
   "source": [
    "- readline을 반복문으로 호출해보자.\n",
    "- 다시 open하면 처음부터 다시 시작"
   ]
  },
  {
   "cell_type": "code",
   "execution_count": null,
   "metadata": {},
   "outputs": [],
   "source": [
    "myFile = open(\"10_윤예윤.txt\")"
   ]
  },
  {
   "cell_type": "code",
   "execution_count": null,
   "metadata": {},
   "outputs": [],
   "source": [
    "for i in range(6):\n",
    "    print(myFile.readline())"
   ]
  },
  {
   "cell_type": "markdown",
   "metadata": {},
   "source": [
    "- 만약 이 파일 내용물이 몇 줄인지 모를 때는?\n",
    "- 아래와 같이 코드를 입력하면 된다."
   ]
  },
  {
   "cell_type": "code",
   "execution_count": null,
   "metadata": {},
   "outputs": [],
   "source": [
    "myFile = open(\"10_윤예윤.txt\")"
   ]
  },
  {
   "cell_type": "code",
   "execution_count": null,
   "metadata": {},
   "outputs": [],
   "source": [
    "for line in myFile:\n",
    "    print(line)"
   ]
  },
  {
   "cell_type": "markdown",
   "metadata": {},
   "source": [
    "- Random 함수를 사용해보자\n",
    "- (import는 이 Jupyter notebook이 실행되는 동안 1번만 실행시켜주면 됩니다.)"
   ]
  },
  {
   "cell_type": "code",
   "execution_count": null,
   "metadata": {},
   "outputs": [],
   "source": [
    "import random"
   ]
  },
  {
   "cell_type": "code",
   "execution_count": null,
   "metadata": {},
   "outputs": [],
   "source": [
    "random.random()"
   ]
  },
  {
   "cell_type": "markdown",
   "metadata": {},
   "source": [
    "- Random 함수를 사용해서 이름 만들어내기"
   ]
  },
  {
   "cell_type": "code",
   "execution_count": null,
   "metadata": {},
   "outputs": [],
   "source": [
    "first_name_samples = \"김이박최정강조윤장임\"\n",
    "middle_name_samples = \"민서예지도하주윤채현지\"\n",
    "last_name_samples = \"준윤우원호후서연아은진\""
   ]
  },
  {
   "cell_type": "code",
   "execution_count": null,
   "metadata": {},
   "outputs": [],
   "source": [
    "random.choice(first_name_samples)"
   ]
  },
  {
   "cell_type": "code",
   "execution_count": null,
   "metadata": {},
   "outputs": [],
   "source": [
    "random.choice(middle_name_samples)"
   ]
  },
  {
   "cell_type": "code",
   "execution_count": null,
   "metadata": {},
   "outputs": [],
   "source": [
    "random.choice(last_name_samples)"
   ]
  },
  {
   "cell_type": "code",
   "execution_count": null,
   "metadata": {},
   "outputs": [],
   "source": [
    "a=\"\" # 빈 string 만들기"
   ]
  },
  {
   "cell_type": "code",
   "execution_count": null,
   "metadata": {},
   "outputs": [],
   "source": [
    "a=a+random.choice(first_name_samples)+random.choice(middle_name_samples)+random.choice(last_name_samples)"
   ]
  },
  {
   "cell_type": "code",
   "execution_count": null,
   "metadata": {},
   "outputs": [],
   "source": [
    "a"
   ]
  },
  {
   "cell_type": "code",
   "execution_count": null,
   "metadata": {},
   "outputs": [],
   "source": [
    "sample_name = \"\"\n",
    "sample_name += random.choice(first_name_samples)\n",
    "sample_name += random.choice(middle_name_samples)\n",
    "sample_name += random.choice(last_name_samples)\n",
    "sample_name"
   ]
  },
  {
   "cell_type": "markdown",
   "metadata": {},
   "source": [
    "## 10. 주석, 코드 동작에 걸리는 시간 측정하기, 이메일 주소 위조하기\n",
    "- 여기서부터 PyCharm을 이용하여 강의를 진행합니다.\n",
    "- 강의를 따라가며 코드를 해석하는 능력을 길러보세요!\n",
    "\n",
    "## 11. 위조 문서 생성하기 (폴더 만들기, 반복문, 파일 저장, 타입캐스팅, 슬라이싱)\n",
    "### 폴더 만들기 (mkdir)"
   ]
  },
  {
   "cell_type": "code",
   "execution_count": null,
   "metadata": {},
   "outputs": [],
   "source": [
    "import os"
   ]
  },
  {
   "cell_type": "code",
   "execution_count": null,
   "metadata": {},
   "outputs": [],
   "source": [
    "os.listdir()"
   ]
  },
  {
   "cell_type": "code",
   "execution_count": null,
   "metadata": {},
   "outputs": [],
   "source": [
    "os.mkdir(\"패스트캠퍼스\")"
   ]
  },
  {
   "cell_type": "markdown",
   "metadata": {},
   "source": [
    "### Datatype 과 Type Casting (형변환)"
   ]
  },
  {
   "cell_type": "code",
   "execution_count": null,
   "metadata": {},
   "outputs": [],
   "source": [
    "type(\"string\")"
   ]
  },
  {
   "cell_type": "code",
   "execution_count": null,
   "metadata": {},
   "outputs": [],
   "source": [
    "type(234)"
   ]
  },
  {
   "cell_type": "code",
   "execution_count": null,
   "metadata": {},
   "outputs": [],
   "source": [
    "type(2.4)"
   ]
  },
  {
   "cell_type": "code",
   "execution_count": null,
   "metadata": {},
   "outputs": [],
   "source": [
    "type([1,2,3])"
   ]
  },
  {
   "cell_type": "code",
   "execution_count": null,
   "metadata": {},
   "outputs": [],
   "source": [
    "type(\"234\")"
   ]
  },
  {
   "cell_type": "code",
   "execution_count": null,
   "metadata": {},
   "outputs": [],
   "source": [
    "str(1234)"
   ]
  },
  {
   "cell_type": "code",
   "execution_count": null,
   "metadata": {},
   "outputs": [],
   "source": [
    "int(\"1234\")"
   ]
  },
  {
   "cell_type": "code",
   "execution_count": null,
   "metadata": {},
   "outputs": [],
   "source": [
    "float(\"1234\")"
   ]
  },
  {
   "cell_type": "code",
   "execution_count": null,
   "metadata": {},
   "outputs": [],
   "source": [
    "int(0.234)"
   ]
  },
  {
   "cell_type": "code",
   "execution_count": null,
   "metadata": {},
   "outputs": [],
   "source": [
    "int(3.5)"
   ]
  },
  {
   "cell_type": "code",
   "execution_count": null,
   "metadata": {},
   "outputs": [],
   "source": [
    "str(1.5)"
   ]
  },
  {
   "cell_type": "code",
   "execution_count": null,
   "metadata": {},
   "outputs": [],
   "source": [
    "int(\"string\") #invalid한 형변환"
   ]
  },
  {
   "cell_type": "code",
   "execution_count": null,
   "metadata": {},
   "outputs": [],
   "source": [
    "a=[1,2,3,4,5]"
   ]
  },
  {
   "cell_type": "code",
   "execution_count": null,
   "metadata": {},
   "outputs": [],
   "source": [
    "str(a) #대괄호까지 전체가 다 문자열로 형변환됨"
   ]
  },
  {
   "cell_type": "markdown",
   "metadata": {},
   "source": [
    "### 핸드폰 번호와 성별 위조하기(리스트, 인덱싱) 예제 의의\n",
    "- 업무 자동화를 향한 첫번째 Step 이었습니다~!"
   ]
  },
  {
   "cell_type": "markdown",
   "metadata": {},
   "source": [
    "## Sample Code"
   ]
  },
  {
   "cell_type": "code",
   "execution_count": null,
   "metadata": {},
   "outputs": [],
   "source": [
    "#-*-coding:euc-kr\n",
    "\"\"\"\n",
    "Author : Byunghyun Ban\n",
    "GitHub : https://github.com/needleworm\n",
    "Last Modification : 2020.02.12.\n",
    "\"\"\"\n",
    "import time\n",
    "import random\n",
    "import os\n",
    "\n",
    "\n",
    "# 작업 시작 메시지를 출력합니다.\n",
    "print(\"Process Start.\")\n",
    "\n",
    "# 시작 시점의 시간을 기록합니다.\n",
    "start_time = time.time()\n",
    "\n",
    "# 생성할 개인정보 파일 개수를 정의합니다.\n",
    "NUM_SAMPLES = 1000\n",
    "\n",
    "# 이메일 생성에 사용할 샘플 글자들을 정의합니다.\n",
    "alphabet_samples = \"abcdefghizklmnopqrstuvwxyz1234567890\"\n",
    "\n",
    "\n",
    "# 무작위로 선택된 영어 글자를 생성하는 함수입니다.\n",
    "def random_string(length):\n",
    "    result = \"\"\n",
    "    for i in range(length):\n",
    "        result += random.choice(alphabet_samples)\n",
    "    return result\n",
    "\n",
    "\n",
    "# 이름 생성에 사용할 샘플 글자들을 정의합니다.\n",
    "first_name_samples = \"김이박최정강조윤장임\"\n",
    "middle_name_samples = \"민서예지도하주윤채현지\"\n",
    "last_name_samples = \"준윤우원호후서연아은진\"\n",
    "\n",
    "\n",
    "# 무작위로 사람 이름을 생성하는 함수입니다.\n",
    "def random_name():\n",
    "    result = \"\"\n",
    "    result += random.choice(first_name_samples)\n",
    "    result += random.choice(middle_name_samples)\n",
    "    result += random.choice(last_name_samples)\n",
    "    return result\n",
    "\n",
    "\n",
    "# 결과물을 저장할 폴더를 생성합니다.\n",
    "os.mkdir(\"personal_info\")\n",
    "\n",
    "# 개인정보 파일을 자동으로 생성하는 부분입니다.\n",
    "# NUM_SAMPLES 회수만큼 반복합니다.\n",
    "# 이를테면, NUM_SAMPLES가 100이면 무작위 개인정보 생성을 100회 반복합니다.\n",
    "for i in range(NUM_SAMPLES):\n",
    "    # 무작위로 사람 이름을 생성합니다.\n",
    "    name = random_name()\n",
    "\n",
    "    # 결과물 파일의 이름을 정의합니다.\n",
    "    filename = \"personal_info/\" + str(i) + \"_\" + name + \".txt\"\n",
    "\n",
    "    # 결과물 파일을 생성합니다. 텅 빈 파일이 생성됩니다.\n",
    "    outfile = open(filename, 'w')\n",
    "\n",
    "    # 결과물 파일에 이름을 기재합니다.\n",
    "    outfile.write(\"name : \" + name + \"\\n\")\n",
    "\n",
    "    # 결과물 파일에 무작위로 생성된 나이를 기재합니다.\n",
    "    outfile.write(\"age : \" + str(time.time())[-2:] + \"\\n\")\n",
    "\n",
    "    # 결과물 파일에 무작위로 생성된 이메일을 기재합니다.\n",
    "    outfile.write(\"e-mail : \" + random_string(8) + \"@bhban.com\\n\")\n",
    "\n",
    "    # 결과물 파일에 무작위로 생성된 부서명을 기재합니다.\n",
    "    outfile.write(\"division : \" + random_string(3) + \"\\n\")\n",
    "\n",
    "    # 결과물 파일에 무작위로 생성된 핸드폰 번호를 기재합니다.\n",
    "    outfile.write(\"telephone : 010-\" + str(time.time())[-4:] + \"-\" + str(time.time())[-6:-2] + '\\n')\n",
    "\n",
    "    # 결과물 파일에 무작위로 선정된 성별을 기재합니다.\n",
    "    outfile.write(\"sex : \" + random.choice([\"male\", \"female\"]))\n",
    "\n",
    "    # 결과물 파일 수정을 마무리합니다.\n",
    "    outfile.close()\n",
    "\n",
    "\n",
    "# 작업 종료 메세지를 출력합니다.\n",
    "print(\"Process Done.\")\n",
    "\n",
    "# 작업에 총 몇 초가 걸렸는지 출력합니다.\n",
    "end_time = time.time()\n",
    "print(\"The Job Took \" + str(end_time - start_time) + \" seconds.\")\n"
   ]
  }
 ],
 "metadata": {
  "kernelspec": {
   "display_name": "Python 3",
   "language": "python",
   "name": "python3"
  },
  "language_info": {
   "codemirror_mode": {
    "name": "ipython",
    "version": 3
   },
   "file_extension": ".py",
   "mimetype": "text/x-python",
   "name": "python",
   "nbconvert_exporter": "python",
   "pygments_lexer": "ipython3",
   "version": "3.7.4"
  },
  "toc": {
   "base_numbering": 1,
   "nav_menu": {},
   "number_sections": true,
   "sideBar": true,
   "skip_h1_title": false,
   "title_cell": "Table of Contents",
   "title_sidebar": "Contents",
   "toc_cell": false,
   "toc_position": {},
   "toc_section_display": true,
   "toc_window_display": true
  }
 },
 "nbformat": 4,
 "nbformat_minor": 2
}
