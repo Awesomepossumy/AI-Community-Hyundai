{
 "cells": [
  {
   "cell_type": "markdown",
   "metadata": {},
   "source": [
    "# Ch 06. 텍스트 파일 1천 개를 CSV 파일 하나로 합쳐 봅니다\n",
    "- CSV: Comma-seperated Variables\n",
    "   - 열 구분: Comma\n",
    "   - 행 구분: 줄바꿈"
   ]
  },
  {
   "cell_type": "markdown",
   "metadata": {},
   "source": [
    "- Ch 05의 코드와 거의 동일한 내용\n",
    "- 다른 것은 outfile_name 변수에 assign한 이름만 다름"
   ]
  },
  {
   "cell_type": "code",
   "execution_count": null,
   "metadata": {},
   "outputs": [],
   "source": [
    "outfile_name = \"merged_ID.txt\" #Ch 05\n",
    "outfile_name = \"simple_merged_ID.csv\" #Ch 06"
   ]
  },
  {
   "cell_type": "markdown",
   "metadata": {},
   "source": [
    "- csv 파일을 생성할 때는 txt 파일을 생성할 때와 똑같이 하되,\n",
    "- 확장자를 .csv로 만들어주기만 하면 된다.\n",
    "- 그러나 깔끔한 포맷으로 만들어주지는 않는다..."
   ]
  }
 ],
 "metadata": {
  "kernelspec": {
   "display_name": "Python 3",
   "language": "python",
   "name": "python3"
  },
  "language_info": {
   "codemirror_mode": {
    "name": "ipython",
    "version": 3
   },
   "file_extension": ".py",
   "mimetype": "text/x-python",
   "name": "python",
   "nbconvert_exporter": "python",
   "pygments_lexer": "ipython3",
   "version": "3.7.4"
  },
  "toc": {
   "base_numbering": 1,
   "nav_menu": {},
   "number_sections": true,
   "sideBar": true,
   "skip_h1_title": false,
   "title_cell": "Table of Contents",
   "title_sidebar": "Contents",
   "toc_cell": false,
   "toc_position": {},
   "toc_section_display": true,
   "toc_window_display": false
  }
 },
 "nbformat": 4,
 "nbformat_minor": 2
}
