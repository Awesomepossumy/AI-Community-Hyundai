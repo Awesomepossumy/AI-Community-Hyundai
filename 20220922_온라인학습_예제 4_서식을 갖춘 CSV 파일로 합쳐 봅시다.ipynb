{
 "cells": [
  {
   "cell_type": "markdown",
   "metadata": {},
   "source": [
    "# Ch 07. 서식을 갖춘 CSV 파일로 합쳐 봅시다\n",
    "## 목표 정하기\n",
    "1. 결과물을 저장할 빈 csv 파일을 생성한다.\n",
    "2. csv 파일에 헤더(header)를 삽입한다.\n",
    "3. personal_info 폴더 내부의 파일을 하나씩 읽어와 보기 좋게 다듬는다.\n",
    "4. 다듬은 내용물을 결과 파일에 옮겨 적는다.\n",
    "5. 내용물 작성이 완료되었다면 파일을 종료한다.\n",
    "\n",
    "## 목표를 달성하기 위해 필요한 작업들\n",
    "1. personal_info 폴더 안의 내용물을 목록으로 만들기 -> os.listdir()\n",
    "2. 목록 안의 내용물을 처음부터 끝까지 훑으며, 한개씩 파일을 읽어오기 -> 반복문\n",
    "3. 읽어온 파일에서 내용물을 뽑아내기 -> readline(), read()\n",
    "4. 파일에 내용을 기록하고 저장하기 -> write(), close()\n",
    "5. 파일을 읽어와 헤더와 콘텐츠를 분리하기 -> 핵심~!\n",
    "6. 첫 줄에만 헤더를 삽입하고 그 다음 줄부터는 콘텐츠만 삽입하기"
   ]
  },
  {
   "cell_type": "code",
   "execution_count": 14,
   "metadata": {},
   "outputs": [],
   "source": [
    "import time\n",
    "import os"
   ]
  },
  {
   "cell_type": "markdown",
   "metadata": {},
   "source": [
    "## split()\n",
    "- String을 쪼개는 함수 (Default는 스페이스를 기준으로 쪼갬)\n",
    "- 괄호안에 있는 문자를 지정하면 그 문자를 기준으로 쪼갠다. \n",
    "- 쪼갠 string들을 리스트로 반환\n",
    "- 대량의 데이터를 일정한 규칙으로 나눠야할 때 많이 사용한다."
   ]
  },
  {
   "cell_type": "code",
   "execution_count": 1,
   "metadata": {},
   "outputs": [
    {
     "data": {
      "text/plain": [
       "'name : half_bottle'"
      ]
     },
     "execution_count": 1,
     "metadata": {},
     "output_type": "execute_result"
    }
   ],
   "source": [
    "a = \"name : half_bottle\"\n",
    "a"
   ]
  },
  {
   "cell_type": "code",
   "execution_count": 3,
   "metadata": {},
   "outputs": [
    {
     "data": {
      "text/plain": [
       "['name ', ' half_bottle']"
      ]
     },
     "execution_count": 3,
     "metadata": {},
     "output_type": "execute_result"
    }
   ],
   "source": [
    "a.split(\":\")"
   ]
  },
  {
   "cell_type": "code",
   "execution_count": 4,
   "metadata": {},
   "outputs": [
    {
     "data": {
      "text/plain": [
       "['name ', ' half_bottle']"
      ]
     },
     "execution_count": 4,
     "metadata": {},
     "output_type": "execute_result"
    }
   ],
   "source": [
    "b = a.split(\":\")\n",
    "b"
   ]
  },
  {
   "cell_type": "code",
   "execution_count": 5,
   "metadata": {},
   "outputs": [
    {
     "data": {
      "text/plain": [
       "['a', 'b', 'c', 'd', 'e']"
      ]
     },
     "execution_count": 5,
     "metadata": {},
     "output_type": "execute_result"
    }
   ],
   "source": [
    "\"a b c d e\".split()"
   ]
  },
  {
   "cell_type": "code",
   "execution_count": 6,
   "metadata": {},
   "outputs": [
    {
     "data": {
      "text/plain": [
       "['패스트캠퍼스', '업무', '자동화', '강의']"
      ]
     },
     "execution_count": 6,
     "metadata": {},
     "output_type": "execute_result"
    }
   ],
   "source": [
    "\"패스트캠퍼스 업무 자동화 강의\".split()"
   ]
  },
  {
   "cell_type": "code",
   "execution_count": 7,
   "metadata": {},
   "outputs": [
    {
     "data": {
      "text/plain": [
       "['a b ', ' d e']"
      ]
     },
     "execution_count": 7,
     "metadata": {},
     "output_type": "execute_result"
    }
   ],
   "source": [
    "\"a b c d e\".split(\"c\")"
   ]
  },
  {
   "cell_type": "code",
   "execution_count": 9,
   "metadata": {},
   "outputs": [
    {
     "data": {
      "text/plain": [
       "['a', 'b', 'c', 'd', 'e']"
      ]
     },
     "execution_count": 9,
     "metadata": {},
     "output_type": "execute_result"
    }
   ],
   "source": [
    "\"a:b:c:d:e\".split(\":\")"
   ]
  },
  {
   "cell_type": "markdown",
   "metadata": {},
   "source": [
    "## strip()\n",
    "- 좌우 공백을 없애는 함수 (스페이스, 줄바꿈)\n",
    "- 공백이 중간에 있는 경우 없애지 않는다."
   ]
  },
  {
   "cell_type": "code",
   "execution_count": 10,
   "metadata": {},
   "outputs": [
    {
     "data": {
      "text/plain": [
       "'bbb'"
      ]
     },
     "execution_count": 10,
     "metadata": {},
     "output_type": "execute_result"
    }
   ],
   "source": [
    "a = \"  bbb   \"\n",
    "a.strip()"
   ]
  },
  {
   "cell_type": "code",
   "execution_count": 12,
   "metadata": {},
   "outputs": [
    {
     "data": {
      "text/plain": [
       "'bbb'"
      ]
     },
     "execution_count": 12,
     "metadata": {},
     "output_type": "execute_result"
    }
   ],
   "source": [
    "b = '   bbb   \\n\\n\\n'\n",
    "b.strip()"
   ]
  },
  {
   "cell_type": "code",
   "execution_count": 13,
   "metadata": {},
   "outputs": [
    {
     "data": {
      "text/plain": [
       "'abc def gh'"
      ]
     },
     "execution_count": 13,
     "metadata": {},
     "output_type": "execute_result"
    }
   ],
   "source": [
    "c = 'abc def gh  '\n",
    "c.strip()"
   ]
  },
  {
   "cell_type": "markdown",
   "metadata": {},
   "source": [
    "## txt 파일 내용을 headers 와 contents로 분리"
   ]
  },
  {
   "cell_type": "code",
   "execution_count": 15,
   "metadata": {},
   "outputs": [],
   "source": [
    "a = os.listdir(\"personal_info\")"
   ]
  },
  {
   "cell_type": "code",
   "execution_count": 16,
   "metadata": {},
   "outputs": [
    {
     "data": {
      "text/plain": [
       "['0_조채아.txt',\n",
       " '100_조도아.txt',\n",
       " '101_최예준.txt',\n",
       " '102_김예윤.txt',\n",
       " '103_박윤원.txt',\n",
       " '104_조채윤.txt',\n",
       " '105_정지아.txt',\n",
       " '106_임주윤.txt',\n",
       " '107_최지우.txt',\n",
       " '108_윤주우.txt',\n",
       " '109_강도후.txt',\n",
       " '10_윤예윤.txt',\n",
       " '110_강서서.txt',\n",
       " '111_조주서.txt',\n",
       " '112_이지우.txt',\n",
       " '113_윤예준.txt',\n",
       " '114_윤도서.txt',\n",
       " '115_정윤연.txt',\n",
       " '116_최예진.txt',\n",
       " '117_강서후.txt',\n",
       " '118_윤도아.txt',\n",
       " '119_김서은.txt',\n",
       " '11_윤하준.txt',\n",
       " '120_최지연.txt',\n",
       " '121_윤지진.txt',\n",
       " '122_김주서.txt',\n",
       " '123_박서연.txt',\n",
       " '124_강하진.txt',\n",
       " '125_윤민은.txt',\n",
       " '126_최서진.txt',\n",
       " '127_정지준.txt',\n",
       " '128_강민연.txt',\n",
       " '129_임윤후.txt',\n",
       " '12_박지윤.txt',\n",
       " '130_이채진.txt',\n",
       " '131_강윤서.txt',\n",
       " '132_장서진.txt',\n",
       " '133_최윤서.txt',\n",
       " '134_김하후.txt',\n",
       " '135_윤현후.txt',\n",
       " '136_최서호.txt',\n",
       " '137_최서서.txt',\n",
       " '138_김예호.txt',\n",
       " '139_조민아.txt',\n",
       " '13_장지원.txt',\n",
       " '140_최주아.txt',\n",
       " '141_박예진.txt',\n",
       " '142_장서후.txt',\n",
       " '143_김도후.txt',\n",
       " '144_임하호.txt',\n",
       " '145_이예우.txt',\n",
       " '146_박채호.txt',\n",
       " '147_최도후.txt',\n",
       " '148_강민진.txt',\n",
       " '149_박채준.txt',\n",
       " '14_박도은.txt',\n",
       " '150_조도호.txt',\n",
       " '151_윤도준.txt',\n",
       " '152_정예윤.txt',\n",
       " '153_김현준.txt',\n",
       " '154_김윤연.txt',\n",
       " '155_윤주후.txt',\n",
       " '156_강예서.txt',\n",
       " '157_이예은.txt',\n",
       " '158_조도우.txt',\n",
       " '159_장윤연.txt',\n",
       " '15_이하서.txt',\n",
       " '160_최서호.txt',\n",
       " '161_정주윤.txt',\n",
       " '162_박지호.txt',\n",
       " '163_강지원.txt',\n",
       " '164_윤도윤.txt',\n",
       " '165_박채호.txt',\n",
       " '166_김지진.txt',\n",
       " '167_임하호.txt',\n",
       " '168_김서연.txt',\n",
       " '169_박현은.txt',\n",
       " '16_조예우.txt',\n",
       " '170_정예진.txt',\n",
       " '171_조예호.txt',\n",
       " '172_윤윤진.txt',\n",
       " '173_김지은.txt',\n",
       " '174_정도준.txt',\n",
       " '175_장현호.txt',\n",
       " '176_강도우.txt',\n",
       " '177_조채호.txt',\n",
       " '178_박지준.txt',\n",
       " '179_김윤원.txt',\n",
       " '17_정하진.txt',\n",
       " '180_임지서.txt',\n",
       " '181_임윤후.txt',\n",
       " '182_김현준.txt',\n",
       " '183_최예은.txt',\n",
       " '184_조채준.txt',\n",
       " '185_윤예은.txt',\n",
       " '186_박서후.txt',\n",
       " '187_김주우.txt',\n",
       " '188_강윤윤.txt',\n",
       " '189_윤서원.txt',\n",
       " '18_이하윤.txt',\n",
       " '190_장채우.txt',\n",
       " '191_윤예후.txt',\n",
       " '192_이지아.txt',\n",
       " '193_강지준.txt',\n",
       " '194_장도서.txt',\n",
       " '195_정현원.txt',\n",
       " '196_박하연.txt',\n",
       " '197_조주호.txt',\n",
       " '198_임서진.txt',\n",
       " '199_정지아.txt',\n",
       " '19_강윤연.txt',\n",
       " '1_윤도원.txt',\n",
       " '200_장서후.txt',\n",
       " '201_최현아.txt',\n",
       " '202_이지진.txt',\n",
       " '203_강하서.txt',\n",
       " '204_박주연.txt',\n",
       " '205_윤주후.txt',\n",
       " '206_이채윤.txt',\n",
       " '207_강윤진.txt',\n",
       " '208_장도우.txt',\n",
       " '209_최윤서.txt',\n",
       " '20_조서준.txt',\n",
       " '210_김지우.txt',\n",
       " '211_최서서.txt',\n",
       " '212_장주준.txt',\n",
       " '213_김주원.txt',\n",
       " '214_정윤원.txt',\n",
       " '215_조지준.txt',\n",
       " '216_강현은.txt',\n",
       " '217_조민연.txt',\n",
       " '218_최윤원.txt',\n",
       " '219_장하우.txt',\n",
       " '21_윤현후.txt',\n",
       " '220_최예연.txt',\n",
       " '221_이채우.txt',\n",
       " '222_최서후.txt',\n",
       " '223_윤주윤.txt',\n",
       " '224_임서후.txt',\n",
       " '225_임서서.txt',\n",
       " '226_김민윤.txt',\n",
       " '227_정하호.txt',\n",
       " '228_강주서.txt',\n",
       " '229_최민후.txt',\n",
       " '22_이주우.txt',\n",
       " '230_강지은.txt',\n",
       " '231_윤주준.txt',\n",
       " '232_윤서진.txt',\n",
       " '233_장민준.txt',\n",
       " '234_윤하준.txt',\n",
       " '235_이민진.txt',\n",
       " '236_장지서.txt',\n",
       " '237_조예아.txt',\n",
       " '238_이채서.txt',\n",
       " '239_최현은.txt',\n",
       " '23_임윤준.txt',\n",
       " '240_박민서.txt',\n",
       " '241_조주진.txt',\n",
       " '242_정민원.txt',\n",
       " '243_조윤진.txt',\n",
       " '244_최지은.txt',\n",
       " '245_이도후.txt',\n",
       " '246_이서호.txt',\n",
       " '247_정현우.txt',\n",
       " '248_조민은.txt',\n",
       " '249_이현윤.txt',\n",
       " '24_김예은.txt',\n",
       " '250_윤민윤.txt',\n",
       " '251_김채원.txt',\n",
       " '252_박지연.txt',\n",
       " '253_이민아.txt',\n",
       " '254_장지연.txt',\n",
       " '255_윤지준.txt',\n",
       " '256_조지후.txt',\n",
       " '257_조하서.txt',\n",
       " '258_김지은.txt',\n",
       " '259_윤예은.txt',\n",
       " '25_장하아.txt',\n",
       " '260_이채우.txt',\n",
       " '261_이예진.txt',\n",
       " '262_조현윤.txt',\n",
       " '263_조지원.txt',\n",
       " '264_임지준.txt',\n",
       " '265_김하우.txt',\n",
       " '266_임지아.txt',\n",
       " '267_최도원.txt',\n",
       " '268_임하호.txt',\n",
       " '269_장윤서.txt',\n",
       " '26_임지호.txt',\n",
       " '270_정채후.txt',\n",
       " '271_조주호.txt',\n",
       " '272_박하준.txt',\n",
       " '273_윤하은.txt',\n",
       " '274_윤지우.txt',\n",
       " '275_강예원.txt',\n",
       " '276_조하호.txt',\n",
       " '277_최예윤.txt',\n",
       " '278_이예후.txt',\n",
       " '279_박서호.txt',\n",
       " '27_박도준.txt',\n",
       " '280_김채원.txt',\n",
       " '281_최하은.txt',\n",
       " '282_장주호.txt',\n",
       " '283_윤지진.txt',\n",
       " '284_이주은.txt',\n",
       " '285_최윤호.txt',\n",
       " '286_임주연.txt',\n",
       " '287_강서아.txt',\n",
       " '288_김민호.txt',\n",
       " '289_이도은.txt',\n",
       " '28_윤도연.txt',\n",
       " '290_이주준.txt',\n",
       " '291_임지진.txt',\n",
       " '292_정하윤.txt',\n",
       " '293_강지서.txt',\n",
       " '294_장현진.txt',\n",
       " '295_이민준.txt',\n",
       " '296_김하후.txt',\n",
       " '297_장서원.txt',\n",
       " '298_이민은.txt',\n",
       " '299_김주원.txt',\n",
       " '29_조하아.txt',\n",
       " '2_장지진.txt',\n",
       " '300_윤예우.txt',\n",
       " '301_조하서.txt',\n",
       " '302_조주진.txt',\n",
       " '303_박주준.txt',\n",
       " '304_윤채준.txt',\n",
       " '305_정하후.txt',\n",
       " '306_윤도준.txt',\n",
       " '307_장하호.txt',\n",
       " '308_최지은.txt',\n",
       " '309_윤민은.txt',\n",
       " '30_김하원.txt',\n",
       " '310_윤하호.txt',\n",
       " '311_임윤준.txt',\n",
       " '312_장서원.txt',\n",
       " '313_정채원.txt',\n",
       " '314_임서은.txt',\n",
       " '315_장서후.txt',\n",
       " '316_윤윤윤.txt',\n",
       " '317_장예아.txt',\n",
       " '318_윤현원.txt',\n",
       " '319_임채은.txt',\n",
       " '31_최현준.txt',\n",
       " '320_정윤호.txt',\n",
       " '321_장현원.txt',\n",
       " '322_최예윤.txt',\n",
       " '323_조주아.txt',\n",
       " '324_임하준.txt',\n",
       " '325_최지후.txt',\n",
       " '326_박예호.txt',\n",
       " '327_정지아.txt',\n",
       " '328_조예우.txt',\n",
       " '329_윤도호.txt',\n",
       " '32_조주윤.txt',\n",
       " '330_김주원.txt',\n",
       " '331_임지진.txt',\n",
       " '332_이현후.txt',\n",
       " '333_강현서.txt',\n",
       " '334_김도아.txt',\n",
       " '335_조서서.txt',\n",
       " '336_장도서.txt',\n",
       " '337_임지은.txt',\n",
       " '338_정서우.txt',\n",
       " '339_임채연.txt',\n",
       " '33_정지서.txt',\n",
       " '340_강현후.txt',\n",
       " '341_장민준.txt',\n",
       " '342_강지준.txt',\n",
       " '343_윤지후.txt',\n",
       " '344_임예후.txt',\n",
       " '345_조지윤.txt',\n",
       " '346_정윤은.txt',\n",
       " '347_조현준.txt',\n",
       " '348_최예원.txt',\n",
       " '349_김채진.txt',\n",
       " '34_강서아.txt',\n",
       " '350_정주호.txt',\n",
       " '351_박하호.txt',\n",
       " '352_장현아.txt',\n",
       " '353_박도원.txt',\n",
       " '354_조예호.txt',\n",
       " '355_임지원.txt',\n",
       " '356_최민준.txt',\n",
       " '357_임채우.txt',\n",
       " '358_조채진.txt',\n",
       " '359_임민준.txt',\n",
       " '35_이주우.txt',\n",
       " '360_정민서.txt',\n",
       " '361_정서우.txt',\n",
       " '362_박지호.txt',\n",
       " '363_강지은.txt',\n",
       " '364_정민아.txt',\n",
       " '365_조주진.txt',\n",
       " '366_박서진.txt',\n",
       " '367_이윤준.txt',\n",
       " '368_최현연.txt',\n",
       " '369_박현준.txt',\n",
       " '36_강윤호.txt',\n",
       " '370_윤도아.txt',\n",
       " '371_조현서.txt',\n",
       " '372_윤지윤.txt',\n",
       " '373_조주진.txt',\n",
       " '374_박지준.txt',\n",
       " '375_최지진.txt',\n",
       " '376_조도윤.txt',\n",
       " '377_조지우.txt',\n",
       " '378_임민서.txt',\n",
       " '379_임지서.txt',\n",
       " '37_정주연.txt',\n",
       " '380_강민호.txt',\n",
       " '381_윤도호.txt',\n",
       " '382_임하서.txt',\n",
       " '383_최주아.txt',\n",
       " '384_김서진.txt',\n",
       " '385_이윤원.txt',\n",
       " '386_윤현원.txt',\n",
       " '387_김하준.txt',\n",
       " '388_정서진.txt',\n",
       " '389_강하연.txt',\n",
       " '38_강지원.txt',\n",
       " '390_장하은.txt',\n",
       " '391_이주연.txt',\n",
       " '392_최지아.txt',\n",
       " '393_최도윤.txt',\n",
       " '394_임서연.txt',\n",
       " '395_이예은.txt',\n",
       " '396_이지준.txt',\n",
       " '397_이현진.txt',\n",
       " '398_장민아.txt',\n",
       " '399_김채윤.txt',\n",
       " '39_박서윤.txt',\n",
       " '3_윤민서.txt',\n",
       " '400_윤예호.txt',\n",
       " '401_임현준.txt',\n",
       " '402_강하우.txt',\n",
       " '403_장주은.txt',\n",
       " '404_조채우.txt',\n",
       " '405_박서원.txt',\n",
       " '406_정지진.txt',\n",
       " '407_윤도아.txt',\n",
       " '408_김지윤.txt',\n",
       " '409_김현후.txt',\n",
       " '40_조지호.txt',\n",
       " '410_이서원.txt',\n",
       " '411_조서연.txt',\n",
       " '412_윤윤서.txt',\n",
       " '413_김주은.txt',\n",
       " '414_장채호.txt',\n",
       " '415_조예아.txt',\n",
       " '416_최도준.txt',\n",
       " '417_박채우.txt',\n",
       " '418_최윤은.txt',\n",
       " '419_조하서.txt',\n",
       " '41_최채아.txt',\n",
       " '420_윤하우.txt',\n",
       " '421_김예윤.txt',\n",
       " '422_최민연.txt',\n",
       " '423_이현후.txt',\n",
       " '424_김채윤.txt',\n",
       " '425_임주우.txt',\n",
       " '426_정윤은.txt',\n",
       " '427_최하호.txt',\n",
       " '428_윤윤준.txt',\n",
       " '429_이도우.txt',\n",
       " '42_강지준.txt',\n",
       " '430_박서은.txt',\n",
       " '431_윤민준.txt',\n",
       " '432_이도원.txt',\n",
       " '433_이예원.txt',\n",
       " '434_장도호.txt',\n",
       " '435_박서후.txt',\n",
       " '436_정채연.txt',\n",
       " '437_강하준.txt',\n",
       " '438_김하원.txt',\n",
       " '439_윤서아.txt',\n",
       " '43_박하우.txt',\n",
       " '440_강지원.txt',\n",
       " '441_장민아.txt',\n",
       " '442_윤채아.txt',\n",
       " '443_임서연.txt',\n",
       " '444_윤윤원.txt',\n",
       " '445_정지우.txt',\n",
       " '446_이민은.txt',\n",
       " '447_이채준.txt',\n",
       " '448_임하준.txt',\n",
       " '449_정채서.txt',\n",
       " '44_정서아.txt',\n",
       " '450_강지진.txt',\n",
       " '451_임도준.txt',\n",
       " '452_임지우.txt',\n",
       " '453_김지원.txt',\n",
       " '454_강지윤.txt',\n",
       " '455_이윤원.txt',\n",
       " '456_정예은.txt',\n",
       " '457_임도호.txt',\n",
       " '458_김윤진.txt',\n",
       " '459_최윤호.txt',\n",
       " '45_최윤연.txt',\n",
       " '460_박하윤.txt',\n",
       " '461_박도원.txt',\n",
       " '462_장예원.txt',\n",
       " '463_박지호.txt',\n",
       " '464_윤민연.txt',\n",
       " '465_이윤서.txt',\n",
       " '466_장도서.txt',\n",
       " '467_이윤우.txt',\n",
       " '468_김채진.txt',\n",
       " '469_장도은.txt',\n",
       " '46_강지준.txt',\n",
       " '470_윤현연.txt',\n",
       " '471_강채진.txt',\n",
       " '472_장도연.txt',\n",
       " '473_박현호.txt',\n",
       " '474_정도호.txt',\n",
       " '475_장민호.txt',\n",
       " '476_정윤아.txt',\n",
       " '477_윤지진.txt',\n",
       " '478_정지연.txt',\n",
       " '479_윤서아.txt',\n",
       " '47_장예준.txt',\n",
       " '480_이지연.txt',\n",
       " '481_장현윤.txt',\n",
       " '482_조윤아.txt',\n",
       " '483_정서서.txt',\n",
       " '484_김지우.txt',\n",
       " '485_강도연.txt',\n",
       " '486_김윤원.txt',\n",
       " '487_윤지서.txt',\n",
       " '488_임윤원.txt',\n",
       " '489_장민서.txt',\n",
       " '48_임서연.txt',\n",
       " '490_조하진.txt',\n",
       " '491_최지아.txt',\n",
       " '492_정민준.txt',\n",
       " '493_김현호.txt',\n",
       " '494_정서서.txt',\n",
       " '495_장윤준.txt',\n",
       " '496_강채원.txt',\n",
       " '497_조하서.txt',\n",
       " '498_장주서.txt',\n",
       " '499_김윤은.txt',\n",
       " '49_윤민윤.txt',\n",
       " '4_정민연.txt',\n",
       " '500_임민진.txt',\n",
       " '501_최민은.txt',\n",
       " '502_강하호.txt',\n",
       " '503_이주은.txt',\n",
       " '504_강지서.txt',\n",
       " '505_윤지우.txt',\n",
       " '506_강주준.txt',\n",
       " '507_정서진.txt',\n",
       " '508_임지아.txt',\n",
       " '509_박예아.txt',\n",
       " '50_장현원.txt',\n",
       " '510_임채서.txt',\n",
       " '511_윤현윤.txt',\n",
       " '512_윤윤은.txt',\n",
       " '513_윤도우.txt',\n",
       " '514_장민아.txt',\n",
       " '515_강도준.txt',\n",
       " '516_강예은.txt',\n",
       " '517_김예연.txt',\n",
       " '518_최지진.txt',\n",
       " '519_최주진.txt',\n",
       " '51_윤서진.txt',\n",
       " '520_최하윤.txt',\n",
       " '521_이윤은.txt',\n",
       " '522_강예호.txt',\n",
       " '523_윤지우.txt',\n",
       " '524_임현윤.txt',\n",
       " '525_임주아.txt',\n",
       " '526_조지호.txt',\n",
       " '527_장지은.txt',\n",
       " '528_임지후.txt',\n",
       " '529_김하호.txt',\n",
       " '52_강서은.txt',\n",
       " '530_조하후.txt',\n",
       " '531_이주준.txt',\n",
       " '532_김채호.txt',\n",
       " '533_이예윤.txt',\n",
       " '534_윤주후.txt',\n",
       " '535_조현아.txt',\n",
       " '536_임하진.txt',\n",
       " '537_강하연.txt',\n",
       " '538_김윤아.txt',\n",
       " '539_박윤진.txt',\n",
       " '53_윤민후.txt',\n",
       " '540_최주준.txt',\n",
       " '541_정도윤.txt',\n",
       " '542_조서서.txt',\n",
       " '543_조서서.txt',\n",
       " '544_강지서.txt',\n",
       " '545_최도아.txt',\n",
       " '546_박현은.txt',\n",
       " '547_김지우.txt',\n",
       " '548_조민은.txt',\n",
       " '549_임지윤.txt',\n",
       " '54_윤민원.txt',\n",
       " '550_강채진.txt',\n",
       " '551_김도진.txt',\n",
       " '552_이채윤.txt',\n",
       " '553_조채아.txt',\n",
       " '554_정민서.txt',\n",
       " '555_최윤진.txt',\n",
       " '556_강하후.txt',\n",
       " '557_박예윤.txt',\n",
       " '558_장윤준.txt',\n",
       " '559_이하호.txt',\n",
       " '55_임하우.txt',\n",
       " '560_조지원.txt',\n",
       " '561_강도원.txt',\n",
       " '562_강윤아.txt',\n",
       " '563_강현원.txt',\n",
       " '564_윤지은.txt',\n",
       " '565_임지진.txt',\n",
       " '566_윤하서.txt',\n",
       " '567_박도아.txt',\n",
       " '568_조하후.txt',\n",
       " '569_박도원.txt',\n",
       " '56_윤지원.txt',\n",
       " '570_정지윤.txt',\n",
       " '571_김윤은.txt',\n",
       " '572_정현연.txt',\n",
       " '573_윤현서.txt',\n",
       " '574_김윤우.txt',\n",
       " '575_김도은.txt',\n",
       " '576_강지진.txt',\n",
       " '577_임지연.txt',\n",
       " '578_이예후.txt',\n",
       " '579_박민아.txt',\n",
       " '57_조주호.txt',\n",
       " '580_최채준.txt',\n",
       " '581_김지준.txt',\n",
       " '582_임하윤.txt',\n",
       " '583_최현진.txt',\n",
       " '584_강도준.txt',\n",
       " '585_강하호.txt',\n",
       " '586_조지아.txt',\n",
       " '587_이윤후.txt',\n",
       " '588_윤윤호.txt',\n",
       " '589_최서우.txt',\n",
       " '58_윤민우.txt',\n",
       " '590_김채후.txt',\n",
       " '591_장윤연.txt',\n",
       " '592_정지은.txt',\n",
       " '593_정윤서.txt',\n",
       " '594_강예호.txt',\n",
       " '595_박현호.txt',\n",
       " '596_윤하은.txt',\n",
       " '597_강도서.txt',\n",
       " '598_정도은.txt',\n",
       " '599_장윤호.txt',\n",
       " '59_임현원.txt',\n",
       " '5_정예진.txt',\n",
       " '600_임채원.txt',\n",
       " '601_윤서준.txt',\n",
       " '602_윤채준.txt',\n",
       " '603_정하우.txt',\n",
       " '604_이지준.txt',\n",
       " '605_최지우.txt',\n",
       " '606_이하윤.txt',\n",
       " '607_정윤진.txt',\n",
       " '608_윤민아.txt',\n",
       " '609_정도연.txt',\n",
       " '60_윤윤아.txt',\n",
       " '610_임하호.txt',\n",
       " '611_정예호.txt',\n",
       " '612_임현연.txt',\n",
       " '613_윤지호.txt',\n",
       " '614_강예우.txt',\n",
       " '615_최현후.txt',\n",
       " '616_이도아.txt',\n",
       " '617_윤주우.txt',\n",
       " '618_김채원.txt',\n",
       " '619_최채원.txt',\n",
       " '61_정주원.txt',\n",
       " '620_윤현진.txt',\n",
       " '621_장서호.txt',\n",
       " '622_강현원.txt',\n",
       " '623_임민준.txt',\n",
       " '624_조하윤.txt',\n",
       " '625_정주아.txt',\n",
       " '626_강하윤.txt',\n",
       " '627_조도진.txt',\n",
       " '628_윤현서.txt',\n",
       " '629_이윤아.txt',\n",
       " '62_최예연.txt',\n",
       " '630_김도서.txt',\n",
       " '631_윤지우.txt',\n",
       " '632_김윤윤.txt',\n",
       " '633_이서아.txt',\n",
       " '634_이예서.txt',\n",
       " '635_최하아.txt',\n",
       " '636_윤도호.txt',\n",
       " '637_조현후.txt',\n",
       " '638_최서후.txt',\n",
       " '639_김민서.txt',\n",
       " '63_조민호.txt',\n",
       " '640_김서준.txt',\n",
       " '641_강도진.txt',\n",
       " '642_정채후.txt',\n",
       " '643_최예진.txt',\n",
       " '644_정예진.txt',\n",
       " '645_박지원.txt',\n",
       " '646_최예원.txt',\n",
       " '647_정민서.txt',\n",
       " '648_최민원.txt',\n",
       " '649_강지서.txt',\n",
       " '64_장예은.txt',\n",
       " '650_강도진.txt',\n",
       " '651_강예서.txt',\n",
       " '652_조예서.txt',\n",
       " '653_최지준.txt',\n",
       " '654_강하원.txt',\n",
       " '655_박윤우.txt',\n",
       " '656_이예윤.txt',\n",
       " '657_강지서.txt',\n",
       " '658_임민호.txt',\n",
       " '659_임서우.txt',\n",
       " '65_임예연.txt',\n",
       " '660_임하서.txt',\n",
       " '661_강서우.txt',\n",
       " '662_윤채아.txt',\n",
       " '663_최하서.txt',\n",
       " '664_윤하후.txt',\n",
       " '665_임서은.txt',\n",
       " '666_이서아.txt',\n",
       " '667_박민연.txt',\n",
       " '668_강예원.txt',\n",
       " '669_장서서.txt',\n",
       " '66_이현윤.txt',\n",
       " '670_조지호.txt',\n",
       " '671_윤서아.txt',\n",
       " '672_최민진.txt',\n",
       " '673_박채윤.txt',\n",
       " '674_임예진.txt',\n",
       " '675_김현후.txt',\n",
       " '676_장지준.txt',\n",
       " '677_윤지윤.txt',\n",
       " '678_강도준.txt',\n",
       " '679_장지호.txt',\n",
       " '67_김하후.txt',\n",
       " '680_박윤후.txt',\n",
       " '681_최윤준.txt',\n",
       " '682_박하서.txt',\n",
       " '683_김지진.txt',\n",
       " '684_김채진.txt',\n",
       " '685_강예진.txt',\n",
       " '686_조예호.txt',\n",
       " '687_박윤은.txt',\n",
       " '688_장민진.txt',\n",
       " '689_강하원.txt',\n",
       " '68_정도진.txt',\n",
       " '690_윤민윤.txt',\n",
       " '691_임지진.txt',\n",
       " '692_장서원.txt',\n",
       " '693_정하윤.txt',\n",
       " '694_박민연.txt',\n",
       " '695_이민후.txt',\n",
       " '696_윤지후.txt',\n",
       " '697_박도은.txt',\n",
       " '698_윤현우.txt',\n",
       " '699_김주원.txt',\n",
       " '69_이현진.txt',\n",
       " '6_조도진.txt',\n",
       " '700_윤주윤.txt',\n",
       " '701_임민준.txt',\n",
       " '702_강하후.txt',\n",
       " '703_임도연.txt',\n",
       " '704_조현아.txt',\n",
       " '705_정하호.txt',\n",
       " '706_정채서.txt',\n",
       " '707_장지연.txt',\n",
       " '708_최현은.txt',\n",
       " '709_조민윤.txt',\n",
       " '70_조현윤.txt',\n",
       " '710_임주원.txt',\n",
       " '711_강윤준.txt',\n",
       " '712_김서진.txt',\n",
       " '713_박도서.txt',\n",
       " '714_장도호.txt',\n",
       " '715_임현은.txt',\n",
       " '716_장윤진.txt',\n",
       " '717_최예아.txt',\n",
       " '718_임지후.txt',\n",
       " '719_강지원.txt',\n",
       " '71_박현서.txt',\n",
       " '720_윤예호.txt',\n",
       " '721_윤지준.txt',\n",
       " '722_윤예서.txt',\n",
       " '723_김예원.txt',\n",
       " '724_김현연.txt',\n",
       " '725_김예아.txt',\n",
       " '726_김하윤.txt',\n",
       " '727_김하연.txt',\n",
       " '728_박현윤.txt',\n",
       " '729_임윤윤.txt',\n",
       " '72_장윤은.txt',\n",
       " '730_장주준.txt',\n",
       " '731_장채원.txt',\n",
       " '732_장지우.txt',\n",
       " '733_정하연.txt',\n",
       " '734_임서아.txt',\n",
       " '735_윤지호.txt',\n",
       " '736_강하준.txt',\n",
       " '737_장윤준.txt',\n",
       " '738_최민서.txt',\n",
       " '739_강채서.txt',\n",
       " '73_정민원.txt',\n",
       " '740_정예은.txt',\n",
       " '741_임윤서.txt',\n",
       " '742_임서후.txt',\n",
       " '743_임도연.txt',\n",
       " '744_강지연.txt',\n",
       " '745_정채원.txt',\n",
       " '746_김도서.txt',\n",
       " '747_김지진.txt',\n",
       " '748_정도은.txt',\n",
       " '749_장민준.txt',\n",
       " '74_김지아.txt',\n",
       " '750_임채준.txt',\n",
       " '751_조지연.txt',\n",
       " '752_정윤원.txt',\n",
       " '753_강지아.txt',\n",
       " '754_김하우.txt',\n",
       " '755_정예연.txt',\n",
       " '756_장하우.txt',\n",
       " '757_장현윤.txt',\n",
       " '758_최도준.txt',\n",
       " '759_장현서.txt',\n",
       " '75_강하연.txt',\n",
       " '760_박윤윤.txt',\n",
       " '761_김지원.txt',\n",
       " '762_박민윤.txt',\n",
       " '763_조주아.txt',\n",
       " '764_박윤원.txt',\n",
       " '765_최도아.txt',\n",
       " '766_임지아.txt',\n",
       " '767_이도아.txt',\n",
       " '768_장채후.txt',\n",
       " '769_장서후.txt',\n",
       " '76_윤도서.txt',\n",
       " '770_윤주우.txt',\n",
       " '771_조지호.txt',\n",
       " '772_정윤우.txt',\n",
       " '773_윤서진.txt',\n",
       " '774_최채진.txt',\n",
       " '775_조지우.txt',\n",
       " '776_조민은.txt',\n",
       " '777_김현후.txt',\n",
       " '778_김서은.txt',\n",
       " '779_장지연.txt',\n",
       " '77_강현진.txt',\n",
       " '780_임서서.txt',\n",
       " '781_이민윤.txt',\n",
       " '782_최서은.txt',\n",
       " '783_조윤준.txt',\n",
       " '784_김서은.txt',\n",
       " '785_김채연.txt',\n",
       " '786_윤민아.txt',\n",
       " '787_강하후.txt',\n",
       " '788_최주우.txt',\n",
       " '789_최지진.txt',\n",
       " '78_임서준.txt',\n",
       " '790_박현진.txt',\n",
       " '791_정윤후.txt',\n",
       " '792_정윤아.txt',\n",
       " '793_장도서.txt',\n",
       " '794_조주후.txt',\n",
       " '795_윤지윤.txt',\n",
       " '796_김윤윤.txt',\n",
       " '797_최하원.txt',\n",
       " '798_최채연.txt',\n",
       " '799_박하연.txt',\n",
       " '79_윤주호.txt',\n",
       " '7_김도호.txt',\n",
       " '800_임민후.txt',\n",
       " '801_임민은.txt',\n",
       " '802_이하아.txt',\n",
       " '803_윤도준.txt',\n",
       " '804_이채아.txt',\n",
       " '805_박지후.txt',\n",
       " '806_최주연.txt',\n",
       " '807_김지연.txt',\n",
       " '808_임현후.txt',\n",
       " '809_장도연.txt',\n",
       " '80_임주진.txt',\n",
       " '810_장윤연.txt',\n",
       " '811_박주준.txt',\n",
       " '812_윤예원.txt',\n",
       " '813_정서윤.txt',\n",
       " '814_조지윤.txt',\n",
       " '815_박주윤.txt',\n",
       " '816_정하서.txt',\n",
       " '817_김지후.txt',\n",
       " '818_최하연.txt',\n",
       " '819_조지진.txt',\n",
       " '81_최지원.txt',\n",
       " '820_임하윤.txt',\n",
       " '821_임윤후.txt',\n",
       " '822_박지우.txt',\n",
       " '823_강윤윤.txt',\n",
       " '824_최예진.txt',\n",
       " '825_이지후.txt',\n",
       " '826_장서진.txt',\n",
       " '827_정하우.txt',\n",
       " '828_최민원.txt',\n",
       " '829_조지준.txt',\n",
       " '82_장지준.txt',\n",
       " '830_조채호.txt',\n",
       " '831_박하원.txt',\n",
       " '832_강지후.txt',\n",
       " '833_강채후.txt',\n",
       " '834_이도은.txt',\n",
       " '835_장지원.txt',\n",
       " '836_장지연.txt',\n",
       " '837_김주호.txt',\n",
       " '838_이예서.txt',\n",
       " '839_강윤후.txt',\n",
       " '83_장지아.txt',\n",
       " '840_김채원.txt',\n",
       " '841_조민우.txt',\n",
       " '842_윤하연.txt',\n",
       " '843_조지아.txt',\n",
       " '844_정현후.txt',\n",
       " '845_최주원.txt',\n",
       " '846_정예은.txt',\n",
       " '847_박예아.txt',\n",
       " '848_정예연.txt',\n",
       " '849_정민후.txt',\n",
       " '84_정지원.txt',\n",
       " '850_최채원.txt',\n",
       " '851_조서후.txt',\n",
       " '852_박도준.txt',\n",
       " '853_박주준.txt',\n",
       " '854_임윤호.txt',\n",
       " '855_강지서.txt',\n",
       " '856_박민우.txt',\n",
       " '857_조민호.txt',\n",
       " '858_장채후.txt',\n",
       " '859_윤현준.txt',\n",
       " '85_강도아.txt',\n",
       " '860_이민서.txt',\n",
       " '861_김주서.txt',\n",
       " '862_강윤우.txt',\n",
       " '863_장민아.txt',\n",
       " '864_장윤우.txt',\n",
       " '865_이서준.txt',\n",
       " '866_김주서.txt',\n",
       " '867_정서준.txt',\n",
       " '868_정민원.txt',\n",
       " '869_박민호.txt',\n",
       " '86_이하연.txt',\n",
       " '870_강현원.txt',\n",
       " '871_조현준.txt',\n",
       " '872_강예연.txt',\n",
       " '873_이서은.txt',\n",
       " '874_윤지준.txt',\n",
       " '875_장도윤.txt',\n",
       " '876_김현진.txt',\n",
       " '877_최서원.txt',\n",
       " '878_정주후.txt',\n",
       " '879_박주진.txt',\n",
       " '87_윤현우.txt',\n",
       " '880_정하진.txt',\n",
       " '881_장현우.txt',\n",
       " '882_조하후.txt',\n",
       " '883_정도진.txt',\n",
       " '884_박지우.txt',\n",
       " '885_정민원.txt',\n",
       " '886_정민준.txt',\n",
       " '887_조현윤.txt',\n",
       " '888_윤민서.txt',\n",
       " '889_강지호.txt',\n",
       " '88_임하우.txt',\n",
       " '890_이주진.txt',\n",
       " '891_정도후.txt',\n",
       " '892_장민원.txt',\n",
       " '893_강주원.txt',\n",
       " '894_김주후.txt',\n",
       " '895_임하서.txt',\n",
       " '896_김지우.txt',\n",
       " '897_이예윤.txt',\n",
       " '898_정현연.txt',\n",
       " '899_조지진.txt',\n",
       " '89_조하윤.txt',\n",
       " '8_박지서.txt',\n",
       " '900_강윤원.txt',\n",
       " '901_최하서.txt',\n",
       " '902_강예아.txt',\n",
       " '903_정도준.txt',\n",
       " '904_김예서.txt',\n",
       " '905_임윤서.txt',\n",
       " '906_장채윤.txt',\n",
       " '907_조윤윤.txt',\n",
       " '908_최채우.txt',\n",
       " '909_장채아.txt',\n",
       " '90_최하호.txt',\n",
       " '910_정민원.txt',\n",
       " '911_윤민윤.txt',\n",
       " '912_강민우.txt',\n",
       " '913_김지아.txt',\n",
       " '914_장지서.txt',\n",
       " '915_조도윤.txt',\n",
       " '916_조서호.txt',\n",
       " '917_최현원.txt',\n",
       " '918_이주원.txt',\n",
       " '919_임지서.txt',\n",
       " '91_강윤후.txt',\n",
       " '920_박예서.txt',\n",
       " '921_장서은.txt',\n",
       " '922_강지서.txt',\n",
       " '923_윤예준.txt',\n",
       " '924_박지원.txt',\n",
       " '925_박윤서.txt',\n",
       " '926_임서진.txt',\n",
       " '927_최현서.txt',\n",
       " '928_정지아.txt',\n",
       " '929_이도아.txt',\n",
       " '92_강예원.txt',\n",
       " '930_최도준.txt',\n",
       " '931_윤지윤.txt',\n",
       " '932_박민준.txt',\n",
       " '933_이예우.txt',\n",
       " '934_이하서.txt',\n",
       " '935_강예원.txt',\n",
       " '936_임도아.txt',\n",
       " '937_조채준.txt',\n",
       " '938_강하아.txt',\n",
       " '939_박예아.txt',\n",
       " '93_최채윤.txt',\n",
       " '940_박민은.txt',\n",
       " '941_윤예우.txt',\n",
       " '942_윤지진.txt',\n",
       " '943_임서준.txt',\n",
       " '944_박도아.txt',\n",
       " '945_김현후.txt',\n",
       " '946_조도연.txt',\n",
       " '947_최지준.txt',\n",
       " '948_박현윤.txt',\n",
       " '949_임민호.txt',\n",
       " '94_이예후.txt',\n",
       " '950_박도서.txt',\n",
       " '951_김서연.txt',\n",
       " '952_김주준.txt',\n",
       " '953_윤도준.txt',\n",
       " '954_강지호.txt',\n",
       " '955_윤하우.txt',\n",
       " '956_장지아.txt',\n",
       " '957_윤하준.txt',\n",
       " '958_장서준.txt',\n",
       " '959_김윤아.txt',\n",
       " '95_장주준.txt',\n",
       " '960_윤하호.txt',\n",
       " '961_임지원.txt',\n",
       " '962_박주준.txt',\n",
       " '963_박지후.txt',\n",
       " '964_윤하준.txt',\n",
       " '965_윤채은.txt',\n",
       " '966_윤서아.txt',\n",
       " '967_김주후.txt',\n",
       " '968_조지진.txt',\n",
       " '969_김지호.txt',\n",
       " '96_박하우.txt',\n",
       " '970_정민원.txt',\n",
       " '971_장윤후.txt',\n",
       " '972_조윤준.txt',\n",
       " '973_최채은.txt',\n",
       " '974_정서우.txt',\n",
       " '975_이지연.txt',\n",
       " '976_강윤원.txt',\n",
       " '977_김도우.txt',\n",
       " '978_이윤준.txt',\n",
       " '979_정지후.txt',\n",
       " '97_정지후.txt',\n",
       " '980_정서후.txt',\n",
       " '981_정주윤.txt',\n",
       " '982_정하우.txt',\n",
       " '983_조서연.txt',\n",
       " '984_임채진.txt',\n",
       " '985_장서윤.txt',\n",
       " '986_김도서.txt',\n",
       " '987_조민진.txt',\n",
       " '988_정채호.txt',\n",
       " '989_임서후.txt',\n",
       " '98_윤하서.txt',\n",
       " '990_임서연.txt',\n",
       " '991_장도서.txt',\n",
       " '992_최서진.txt',\n",
       " '993_최지서.txt',\n",
       " '994_윤윤연.txt',\n",
       " '995_정민서.txt',\n",
       " '996_박민진.txt',\n",
       " '997_이주연.txt',\n",
       " '998_강민준.txt',\n",
       " '999_김현후.txt',\n",
       " '99_임도후.txt',\n",
       " '9_박윤은.txt']"
      ]
     },
     "execution_count": 16,
     "metadata": {},
     "output_type": "execute_result"
    }
   ],
   "source": [
    "a"
   ]
  },
  {
   "cell_type": "code",
   "execution_count": 17,
   "metadata": {},
   "outputs": [
    {
     "data": {
      "text/plain": [
       "'998_강민준.txt'"
      ]
     },
     "execution_count": 17,
     "metadata": {},
     "output_type": "execute_result"
    }
   ],
   "source": [
    "b = a[-4]\n",
    "b"
   ]
  },
  {
   "cell_type": "code",
   "execution_count": 25,
   "metadata": {},
   "outputs": [],
   "source": [
    "c = open(\"personal_info/\"+b)"
   ]
  },
  {
   "cell_type": "code",
   "execution_count": 26,
   "metadata": {},
   "outputs": [
    {
     "data": {
      "text/plain": [
       "<_io.TextIOWrapper name='personal_info/998_강민준.txt' mode='r' encoding='cp949'>"
      ]
     },
     "execution_count": 26,
     "metadata": {},
     "output_type": "execute_result"
    }
   ],
   "source": [
    "c"
   ]
  },
  {
   "cell_type": "code",
   "execution_count": 27,
   "metadata": {
    "scrolled": true
   },
   "outputs": [
    {
     "data": {
      "text/plain": [
       "'name : 강민준\\n'"
      ]
     },
     "execution_count": 27,
     "metadata": {},
     "output_type": "execute_result"
    }
   ],
   "source": [
    "d = c.readline() #위에서부터 한 줄 씩 읽어오기"
   ]
  },
  {
   "cell_type": "code",
   "execution_count": 28,
   "metadata": {},
   "outputs": [
    {
     "data": {
      "text/plain": [
       "'name : 강민준\\n'"
      ]
     },
     "execution_count": 28,
     "metadata": {},
     "output_type": "execute_result"
    }
   ],
   "source": [
    "d"
   ]
  },
  {
   "cell_type": "markdown",
   "metadata": {},
   "source": [
    "- split() 활용하여 headers 와 contents로 쪼갠다\n",
    "- 쪼갠 내용에 공백이 없게 strip()으로 한번 더 가공한다."
   ]
  },
  {
   "cell_type": "code",
   "execution_count": 29,
   "metadata": {},
   "outputs": [],
   "source": [
    "splits = d.split(\":\")"
   ]
  },
  {
   "cell_type": "code",
   "execution_count": 30,
   "metadata": {},
   "outputs": [
    {
     "data": {
      "text/plain": [
       "['name ', ' 강민준\\n']"
      ]
     },
     "execution_count": 30,
     "metadata": {},
     "output_type": "execute_result"
    }
   ],
   "source": [
    "splits"
   ]
  },
  {
   "cell_type": "code",
   "execution_count": 31,
   "metadata": {},
   "outputs": [
    {
     "data": {
      "text/plain": [
       "' 강민준\\n'"
      ]
     },
     "execution_count": 31,
     "metadata": {},
     "output_type": "execute_result"
    }
   ],
   "source": [
    "splits[-1]"
   ]
  },
  {
   "cell_type": "code",
   "execution_count": 32,
   "metadata": {},
   "outputs": [
    {
     "data": {
      "text/plain": [
       "'강민준'"
      ]
     },
     "execution_count": 32,
     "metadata": {},
     "output_type": "execute_result"
    }
   ],
   "source": [
    "splits[-1].strip()"
   ]
  },
  {
   "cell_type": "markdown",
   "metadata": {},
   "source": [
    "- contents와 headers라는 빈 리스트에 append()로 내용 추가하기"
   ]
  },
  {
   "cell_type": "code",
   "execution_count": 35,
   "metadata": {},
   "outputs": [],
   "source": [
    "contents = []"
   ]
  },
  {
   "cell_type": "code",
   "execution_count": 36,
   "metadata": {},
   "outputs": [
    {
     "data": {
      "text/plain": [
       "['강민준']"
      ]
     },
     "execution_count": 36,
     "metadata": {},
     "output_type": "execute_result"
    }
   ],
   "source": [
    "contents.append(splits[-1].strip())\n",
    "contents"
   ]
  },
  {
   "cell_type": "code",
   "execution_count": 37,
   "metadata": {},
   "outputs": [],
   "source": [
    "headers = []"
   ]
  },
  {
   "cell_type": "code",
   "execution_count": 38,
   "metadata": {},
   "outputs": [],
   "source": [
    "headers.append(splits[0].strip())"
   ]
  },
  {
   "cell_type": "code",
   "execution_count": 39,
   "metadata": {},
   "outputs": [
    {
     "data": {
      "text/plain": [
       "['name']"
      ]
     },
     "execution_count": 39,
     "metadata": {},
     "output_type": "execute_result"
    }
   ],
   "source": [
    "headers"
   ]
  },
  {
   "cell_type": "markdown",
   "metadata": {},
   "source": [
    "- 다시 빈 리스트를 불러와서 코드 실행해보기"
   ]
  },
  {
   "cell_type": "code",
   "execution_count": 40,
   "metadata": {},
   "outputs": [],
   "source": [
    "contents = []\n",
    "headers = []"
   ]
  },
  {
   "cell_type": "code",
   "execution_count": 41,
   "metadata": {},
   "outputs": [],
   "source": [
    "file = open(\"personal_info/\" + b)"
   ]
  },
  {
   "cell_type": "code",
   "execution_count": 42,
   "metadata": {},
   "outputs": [],
   "source": [
    "for line in file:\n",
    "    # 엑셀 파일의 양식과 내용물을 분리합니다.\n",
    "    if \":\" in line:\n",
    "        splits = line.split(\":\")\n",
    "        contents.append(splits[-1].strip())\n",
    "\n",
    "        # 헤더를 정리합니다. 최초 1회만 실행됩니다.\n",
    "        if len(contents) > len(headers):\n",
    "            headers.append(splits[0].strip())"
   ]
  },
  {
   "cell_type": "code",
   "execution_count": 43,
   "metadata": {},
   "outputs": [
    {
     "data": {
      "text/plain": [
       "['강민준', '35', '3ml9ruci@bhban.com', 'rbz', '010-1535-3415', 'female']"
      ]
     },
     "execution_count": 43,
     "metadata": {},
     "output_type": "execute_result"
    }
   ],
   "source": [
    "contents"
   ]
  },
  {
   "cell_type": "code",
   "execution_count": 44,
   "metadata": {},
   "outputs": [
    {
     "data": {
      "text/plain": [
       "['name', 'age', 'e-mail', 'division', 'telephone', 'sex']"
      ]
     },
     "execution_count": 44,
     "metadata": {},
     "output_type": "execute_result"
    }
   ],
   "source": [
    "headers"
   ]
  },
  {
   "cell_type": "markdown",
   "metadata": {},
   "source": [
    "## join()\n",
    "- split()의 반대로 리스트 내용을 한 string으로 합쳐준다.\n",
    "- 합치는 구분자는 . 앞에 문자를 활용\n",
    "- csv는 ,로 구분하기 때문에 적절히 활용하면 csv 파일을 쉽게 만들 수 있다."
   ]
  },
  {
   "cell_type": "code",
   "execution_count": 46,
   "metadata": {},
   "outputs": [
    {
     "data": {
      "text/plain": [
       "'name, age, e-mail, division, telephone, sex'"
      ]
     },
     "execution_count": 46,
     "metadata": {},
     "output_type": "execute_result"
    }
   ],
   "source": [
    "\", \".join(headers)"
   ]
  },
  {
   "cell_type": "code",
   "execution_count": 47,
   "metadata": {},
   "outputs": [
    {
     "data": {
      "text/plain": [
       "'nameAageAe-mailAdivisionAtelephoneAsex'"
      ]
     },
     "execution_count": 47,
     "metadata": {},
     "output_type": "execute_result"
    }
   ],
   "source": [
    "\"A\".join(headers)"
   ]
  },
  {
   "cell_type": "code",
   "execution_count": 48,
   "metadata": {},
   "outputs": [
    {
     "data": {
      "text/plain": [
       "'name@age@e-mail@division@telephone@sex'"
      ]
     },
     "execution_count": 48,
     "metadata": {},
     "output_type": "execute_result"
    }
   ],
   "source": [
    "\"@\".join(headers)"
   ]
  },
  {
   "cell_type": "code",
   "execution_count": 49,
   "metadata": {},
   "outputs": [
    {
     "data": {
      "text/plain": [
       "['a', 'b', 'c', 'd', 'e']"
      ]
     },
     "execution_count": 49,
     "metadata": {},
     "output_type": "execute_result"
    }
   ],
   "source": [
    "q = [\"a\", \"b\", \"c\", \"d\", \"e\"]\n",
    "q"
   ]
  },
  {
   "cell_type": "code",
   "execution_count": 50,
   "metadata": {},
   "outputs": [
    {
     "data": {
      "text/plain": [
       "'a, b, c, d, e'"
      ]
     },
     "execution_count": 50,
     "metadata": {},
     "output_type": "execute_result"
    }
   ],
   "source": [
    "\", \".join(q)"
   ]
  },
  {
   "cell_type": "code",
   "execution_count": 51,
   "metadata": {},
   "outputs": [
    {
     "data": {
      "text/plain": [
       "'aAAAAbAAAAcAAAAdAAAAe'"
      ]
     },
     "execution_count": 51,
     "metadata": {},
     "output_type": "execute_result"
    }
   ],
   "source": [
    "\"AAAA\".join(q)"
   ]
  },
  {
   "cell_type": "markdown",
   "metadata": {},
   "source": [
    "- headers를 join()으로 csv에 적합한 , 구분자로 구분된 하나의 string으로 만든다"
   ]
  },
  {
   "cell_type": "code",
   "execution_count": 52,
   "metadata": {},
   "outputs": [
    {
     "data": {
      "text/plain": [
       "'name, age, e-mail, division, telephone, sex'"
      ]
     },
     "execution_count": 52,
     "metadata": {},
     "output_type": "execute_result"
    }
   ],
   "source": [
    "header = \", \".join(headers)\n",
    "header"
   ]
  },
  {
   "cell_type": "markdown",
   "metadata": {},
   "source": [
    "- contents도 마찬가지"
   ]
  },
  {
   "cell_type": "code",
   "execution_count": 53,
   "metadata": {},
   "outputs": [
    {
     "data": {
      "text/plain": [
       "['강민준', '35', '3ml9ruci@bhban.com', 'rbz', '010-1535-3415', 'female']"
      ]
     },
     "execution_count": 53,
     "metadata": {},
     "output_type": "execute_result"
    }
   ],
   "source": [
    "contents"
   ]
  },
  {
   "cell_type": "code",
   "execution_count": 55,
   "metadata": {},
   "outputs": [
    {
     "data": {
      "text/plain": [
       "'강민준, 35, 3ml9ruci@bhban.com, rbz, 010-1535-3415, female'"
      ]
     },
     "execution_count": 55,
     "metadata": {},
     "output_type": "execute_result"
    }
   ],
   "source": [
    "newline = \", \".join(contents)\n",
    "newline"
   ]
  },
  {
   "cell_type": "markdown",
   "metadata": {},
   "source": [
    "## 예제 의의\n",
    "1. split(), strip(), join() 활용\n",
    "2. 반복문 내 조건문을 활용한 __반복문 제어 방식__\n",
    "3. 반복문 내의 코드가 다 반복되지 않도록 제어할 수 있다! \n",
    "   - (이번 예시에서는 초기 한 번만 실행되도록 제어하기)\n",
    "4. 조건문 내의 continue를 활용한 예외처리"
   ]
  }
 ],
 "metadata": {
  "kernelspec": {
   "display_name": "Python 3",
   "language": "python",
   "name": "python3"
  },
  "language_info": {
   "codemirror_mode": {
    "name": "ipython",
    "version": 3
   },
   "file_extension": ".py",
   "mimetype": "text/x-python",
   "name": "python",
   "nbconvert_exporter": "python",
   "pygments_lexer": "ipython3",
   "version": "3.7.4"
  },
  "toc": {
   "base_numbering": 1,
   "nav_menu": {},
   "number_sections": true,
   "sideBar": true,
   "skip_h1_title": false,
   "title_cell": "Table of Contents",
   "title_sidebar": "Contents",
   "toc_cell": false,
   "toc_position": {},
   "toc_section_display": true,
   "toc_window_display": false
  }
 },
 "nbformat": 4,
 "nbformat_minor": 2
}
